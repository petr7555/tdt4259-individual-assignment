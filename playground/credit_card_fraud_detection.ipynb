{
 "nbformat": 4,
 "nbformat_minor": 0,
 "metadata": {
  "colab": {
   "provenance": []
  },
  "kernelspec": {
   "name": "python3",
   "language": "python",
   "display_name": "Python 3 (ipykernel)"
  },
  "language_info": {
   "name": "python"
  },
  "widgets": {
   "application/vnd.jupyter.widget-state+json": {
    "b97ef13e60d34f3cb1166f2b14c3a53e": {
     "model_module": "@jupyter-widgets/controls",
     "model_name": "HBoxModel",
     "model_module_version": "1.5.0",
     "state": {
      "_dom_classes": [],
      "_model_module": "@jupyter-widgets/controls",
      "_model_module_version": "1.5.0",
      "_model_name": "HBoxModel",
      "_view_count": null,
      "_view_module": "@jupyter-widgets/controls",
      "_view_module_version": "1.5.0",
      "_view_name": "HBoxView",
      "box_style": "",
      "children": [
       "IPY_MODEL_69ed8eb176a8470989bf1fb16fa50d5a",
       "IPY_MODEL_d11665f1120443988435118cbbebe498",
       "IPY_MODEL_7c93f3831f6b4950bbf837367a9d7d57"
      ],
      "layout": "IPY_MODEL_9ac73ecc4f6540258244bc11727b4b35"
     }
    },
    "69ed8eb176a8470989bf1fb16fa50d5a": {
     "model_module": "@jupyter-widgets/controls",
     "model_name": "HTMLModel",
     "model_module_version": "1.5.0",
     "state": {
      "_dom_classes": [],
      "_model_module": "@jupyter-widgets/controls",
      "_model_module_version": "1.5.0",
      "_model_name": "HTMLModel",
      "_view_count": null,
      "_view_module": "@jupyter-widgets/controls",
      "_view_module_version": "1.5.0",
      "_view_name": "HTMLView",
      "description": "",
      "description_tooltip": null,
      "layout": "IPY_MODEL_b230444f2eda4c8bab5075043dd0a1bd",
      "placeholder": "​",
      "style": "IPY_MODEL_f8db139f78a64e59abeeecb96f915ffe",
      "value": "Processing:  57%"
     }
    },
    "d11665f1120443988435118cbbebe498": {
     "model_module": "@jupyter-widgets/controls",
     "model_name": "FloatProgressModel",
     "model_module_version": "1.5.0",
     "state": {
      "_dom_classes": [],
      "_model_module": "@jupyter-widgets/controls",
      "_model_module_version": "1.5.0",
      "_model_name": "FloatProgressModel",
      "_view_count": null,
      "_view_module": "@jupyter-widgets/controls",
      "_view_module_version": "1.5.0",
      "_view_name": "ProgressView",
      "bar_style": "",
      "description": "",
      "description_tooltip": null,
      "layout": "IPY_MODEL_f9071b3d5c474bdca949d370c5617309",
      "max": 69,
      "min": 0,
      "orientation": "horizontal",
      "style": "IPY_MODEL_75fe6c67924c4600ae3cb20aa381c49b",
      "value": 39
     }
    },
    "7c93f3831f6b4950bbf837367a9d7d57": {
     "model_module": "@jupyter-widgets/controls",
     "model_name": "HTMLModel",
     "model_module_version": "1.5.0",
     "state": {
      "_dom_classes": [],
      "_model_module": "@jupyter-widgets/controls",
      "_model_module_version": "1.5.0",
      "_model_name": "HTMLModel",
      "_view_count": null,
      "_view_module": "@jupyter-widgets/controls",
      "_view_module_version": "1.5.0",
      "_view_name": "HTMLView",
      "description": "",
      "description_tooltip": null,
      "layout": "IPY_MODEL_fd04d420fb9a4664b7ec1142cf7a1788",
      "placeholder": "​",
      "style": "IPY_MODEL_4151406b4dba4b178b1573932ee7c632",
      "value": " 39/69 [36:11&lt;36:09, 72.32s/it]"
     }
    },
    "9ac73ecc4f6540258244bc11727b4b35": {
     "model_module": "@jupyter-widgets/base",
     "model_name": "LayoutModel",
     "model_module_version": "1.2.0",
     "state": {
      "_model_module": "@jupyter-widgets/base",
      "_model_module_version": "1.2.0",
      "_model_name": "LayoutModel",
      "_view_count": null,
      "_view_module": "@jupyter-widgets/base",
      "_view_module_version": "1.2.0",
      "_view_name": "LayoutView",
      "align_content": null,
      "align_items": null,
      "align_self": null,
      "border": null,
      "bottom": null,
      "display": null,
      "flex": null,
      "flex_flow": null,
      "grid_area": null,
      "grid_auto_columns": null,
      "grid_auto_flow": null,
      "grid_auto_rows": null,
      "grid_column": null,
      "grid_gap": null,
      "grid_row": null,
      "grid_template_areas": null,
      "grid_template_columns": null,
      "grid_template_rows": null,
      "height": null,
      "justify_content": null,
      "justify_items": null,
      "left": null,
      "margin": null,
      "max_height": null,
      "max_width": null,
      "min_height": null,
      "min_width": null,
      "object_fit": null,
      "object_position": null,
      "order": null,
      "overflow": null,
      "overflow_x": null,
      "overflow_y": null,
      "padding": null,
      "right": null,
      "top": null,
      "visibility": null,
      "width": null
     }
    },
    "b230444f2eda4c8bab5075043dd0a1bd": {
     "model_module": "@jupyter-widgets/base",
     "model_name": "LayoutModel",
     "model_module_version": "1.2.0",
     "state": {
      "_model_module": "@jupyter-widgets/base",
      "_model_module_version": "1.2.0",
      "_model_name": "LayoutModel",
      "_view_count": null,
      "_view_module": "@jupyter-widgets/base",
      "_view_module_version": "1.2.0",
      "_view_name": "LayoutView",
      "align_content": null,
      "align_items": null,
      "align_self": null,
      "border": null,
      "bottom": null,
      "display": null,
      "flex": null,
      "flex_flow": null,
      "grid_area": null,
      "grid_auto_columns": null,
      "grid_auto_flow": null,
      "grid_auto_rows": null,
      "grid_column": null,
      "grid_gap": null,
      "grid_row": null,
      "grid_template_areas": null,
      "grid_template_columns": null,
      "grid_template_rows": null,
      "height": null,
      "justify_content": null,
      "justify_items": null,
      "left": null,
      "margin": null,
      "max_height": null,
      "max_width": null,
      "min_height": null,
      "min_width": null,
      "object_fit": null,
      "object_position": null,
      "order": null,
      "overflow": null,
      "overflow_x": null,
      "overflow_y": null,
      "padding": null,
      "right": null,
      "top": null,
      "visibility": null,
      "width": null
     }
    },
    "f8db139f78a64e59abeeecb96f915ffe": {
     "model_module": "@jupyter-widgets/controls",
     "model_name": "DescriptionStyleModel",
     "model_module_version": "1.5.0",
     "state": {
      "_model_module": "@jupyter-widgets/controls",
      "_model_module_version": "1.5.0",
      "_model_name": "DescriptionStyleModel",
      "_view_count": null,
      "_view_module": "@jupyter-widgets/base",
      "_view_module_version": "1.2.0",
      "_view_name": "StyleView",
      "description_width": ""
     }
    },
    "f9071b3d5c474bdca949d370c5617309": {
     "model_module": "@jupyter-widgets/base",
     "model_name": "LayoutModel",
     "model_module_version": "1.2.0",
     "state": {
      "_model_module": "@jupyter-widgets/base",
      "_model_module_version": "1.2.0",
      "_model_name": "LayoutModel",
      "_view_count": null,
      "_view_module": "@jupyter-widgets/base",
      "_view_module_version": "1.2.0",
      "_view_name": "LayoutView",
      "align_content": null,
      "align_items": null,
      "align_self": null,
      "border": null,
      "bottom": null,
      "display": null,
      "flex": null,
      "flex_flow": null,
      "grid_area": null,
      "grid_auto_columns": null,
      "grid_auto_flow": null,
      "grid_auto_rows": null,
      "grid_column": null,
      "grid_gap": null,
      "grid_row": null,
      "grid_template_areas": null,
      "grid_template_columns": null,
      "grid_template_rows": null,
      "height": null,
      "justify_content": null,
      "justify_items": null,
      "left": null,
      "margin": null,
      "max_height": null,
      "max_width": null,
      "min_height": null,
      "min_width": null,
      "object_fit": null,
      "object_position": null,
      "order": null,
      "overflow": null,
      "overflow_x": null,
      "overflow_y": null,
      "padding": null,
      "right": null,
      "top": null,
      "visibility": null,
      "width": null
     }
    },
    "75fe6c67924c4600ae3cb20aa381c49b": {
     "model_module": "@jupyter-widgets/controls",
     "model_name": "ProgressStyleModel",
     "model_module_version": "1.5.0",
     "state": {
      "_model_module": "@jupyter-widgets/controls",
      "_model_module_version": "1.5.0",
      "_model_name": "ProgressStyleModel",
      "_view_count": null,
      "_view_module": "@jupyter-widgets/base",
      "_view_module_version": "1.2.0",
      "_view_name": "StyleView",
      "bar_color": null,
      "description_width": ""
     }
    },
    "fd04d420fb9a4664b7ec1142cf7a1788": {
     "model_module": "@jupyter-widgets/base",
     "model_name": "LayoutModel",
     "model_module_version": "1.2.0",
     "state": {
      "_model_module": "@jupyter-widgets/base",
      "_model_module_version": "1.2.0",
      "_model_name": "LayoutModel",
      "_view_count": null,
      "_view_module": "@jupyter-widgets/base",
      "_view_module_version": "1.2.0",
      "_view_name": "LayoutView",
      "align_content": null,
      "align_items": null,
      "align_self": null,
      "border": null,
      "bottom": null,
      "display": null,
      "flex": null,
      "flex_flow": null,
      "grid_area": null,
      "grid_auto_columns": null,
      "grid_auto_flow": null,
      "grid_auto_rows": null,
      "grid_column": null,
      "grid_gap": null,
      "grid_row": null,
      "grid_template_areas": null,
      "grid_template_columns": null,
      "grid_template_rows": null,
      "height": null,
      "justify_content": null,
      "justify_items": null,
      "left": null,
      "margin": null,
      "max_height": null,
      "max_width": null,
      "min_height": null,
      "min_width": null,
      "object_fit": null,
      "object_position": null,
      "order": null,
      "overflow": null,
      "overflow_x": null,
      "overflow_y": null,
      "padding": null,
      "right": null,
      "top": null,
      "visibility": null,
      "width": null
     }
    },
    "4151406b4dba4b178b1573932ee7c632": {
     "model_module": "@jupyter-widgets/controls",
     "model_name": "DescriptionStyleModel",
     "model_module_version": "1.5.0",
     "state": {
      "_model_module": "@jupyter-widgets/controls",
      "_model_module_version": "1.5.0",
      "_model_name": "DescriptionStyleModel",
      "_view_count": null,
      "_view_module": "@jupyter-widgets/base",
      "_view_module_version": "1.2.0",
      "_view_name": "StyleView",
      "description_width": ""
     }
    },
    "4f887ce7a3034d39b61ffac8acb980ca": {
     "model_module": "@jupyter-widgets/controls",
     "model_name": "HBoxModel",
     "model_module_version": "1.5.0",
     "state": {
      "_dom_classes": [],
      "_model_module": "@jupyter-widgets/controls",
      "_model_module_version": "1.5.0",
      "_model_name": "HBoxModel",
      "_view_count": null,
      "_view_module": "@jupyter-widgets/controls",
      "_view_module_version": "1.5.0",
      "_view_name": "HBoxView",
      "box_style": "",
      "children": [
       "IPY_MODEL_1d2dc6737bc34c85996691c19ebbb9c5",
       "IPY_MODEL_884e48c49f0e4fdcb0abd96b023345c6",
       "IPY_MODEL_e41a92455ef14ed5ba62fbf451ca1e2c"
      ],
      "layout": "IPY_MODEL_37ed338915cb4e5395775186ada5c53d"
     }
    },
    "1d2dc6737bc34c85996691c19ebbb9c5": {
     "model_module": "@jupyter-widgets/controls",
     "model_name": "HTMLModel",
     "model_module_version": "1.5.0",
     "state": {
      "_dom_classes": [],
      "_model_module": "@jupyter-widgets/controls",
      "_model_module_version": "1.5.0",
      "_model_name": "HTMLModel",
      "_view_count": null,
      "_view_module": "@jupyter-widgets/controls",
      "_view_module_version": "1.5.0",
      "_view_name": "HTMLView",
      "description": "",
      "description_tooltip": null,
      "layout": "IPY_MODEL_f632ed94bf1d4b308dfbdf3d31090c4e",
      "placeholder": "​",
      "style": "IPY_MODEL_8cb3be27eba04148a4c5ec0172e8fda0",
      "value": "Processing: 100%"
     }
    },
    "884e48c49f0e4fdcb0abd96b023345c6": {
     "model_module": "@jupyter-widgets/controls",
     "model_name": "FloatProgressModel",
     "model_module_version": "1.5.0",
     "state": {
      "_dom_classes": [],
      "_model_module": "@jupyter-widgets/controls",
      "_model_module_version": "1.5.0",
      "_model_name": "FloatProgressModel",
      "_view_count": null,
      "_view_module": "@jupyter-widgets/controls",
      "_view_module_version": "1.5.0",
      "_view_name": "ProgressView",
      "bar_style": "",
      "description": "",
      "description_tooltip": null,
      "layout": "IPY_MODEL_7d001a1e591c4c0c8720997270ec8f1c",
      "max": 4,
      "min": 0,
      "orientation": "horizontal",
      "style": "IPY_MODEL_14a53ead840b46b8be55916e98a906b8",
      "value": 4
     }
    },
    "e41a92455ef14ed5ba62fbf451ca1e2c": {
     "model_module": "@jupyter-widgets/controls",
     "model_name": "HTMLModel",
     "model_module_version": "1.5.0",
     "state": {
      "_dom_classes": [],
      "_model_module": "@jupyter-widgets/controls",
      "_model_module_version": "1.5.0",
      "_model_name": "HTMLModel",
      "_view_count": null,
      "_view_module": "@jupyter-widgets/controls",
      "_view_module_version": "1.5.0",
      "_view_name": "HTMLView",
      "description": "",
      "description_tooltip": null,
      "layout": "IPY_MODEL_a9996d2af7ea4a15b75423c030c79775",
      "placeholder": "​",
      "style": "IPY_MODEL_1d1fb3ee65d04531b1e61d86dcb762b6",
      "value": " 4/4 [00:09&lt;00:00,  2.20s/it]"
     }
    },
    "37ed338915cb4e5395775186ada5c53d": {
     "model_module": "@jupyter-widgets/base",
     "model_name": "LayoutModel",
     "model_module_version": "1.2.0",
     "state": {
      "_model_module": "@jupyter-widgets/base",
      "_model_module_version": "1.2.0",
      "_model_name": "LayoutModel",
      "_view_count": null,
      "_view_module": "@jupyter-widgets/base",
      "_view_module_version": "1.2.0",
      "_view_name": "LayoutView",
      "align_content": null,
      "align_items": null,
      "align_self": null,
      "border": null,
      "bottom": null,
      "display": null,
      "flex": null,
      "flex_flow": null,
      "grid_area": null,
      "grid_auto_columns": null,
      "grid_auto_flow": null,
      "grid_auto_rows": null,
      "grid_column": null,
      "grid_gap": null,
      "grid_row": null,
      "grid_template_areas": null,
      "grid_template_columns": null,
      "grid_template_rows": null,
      "height": null,
      "justify_content": null,
      "justify_items": null,
      "left": null,
      "margin": null,
      "max_height": null,
      "max_width": null,
      "min_height": null,
      "min_width": null,
      "object_fit": null,
      "object_position": null,
      "order": null,
      "overflow": null,
      "overflow_x": null,
      "overflow_y": null,
      "padding": null,
      "right": null,
      "top": null,
      "visibility": "hidden",
      "width": null
     }
    },
    "f632ed94bf1d4b308dfbdf3d31090c4e": {
     "model_module": "@jupyter-widgets/base",
     "model_name": "LayoutModel",
     "model_module_version": "1.2.0",
     "state": {
      "_model_module": "@jupyter-widgets/base",
      "_model_module_version": "1.2.0",
      "_model_name": "LayoutModel",
      "_view_count": null,
      "_view_module": "@jupyter-widgets/base",
      "_view_module_version": "1.2.0",
      "_view_name": "LayoutView",
      "align_content": null,
      "align_items": null,
      "align_self": null,
      "border": null,
      "bottom": null,
      "display": null,
      "flex": null,
      "flex_flow": null,
      "grid_area": null,
      "grid_auto_columns": null,
      "grid_auto_flow": null,
      "grid_auto_rows": null,
      "grid_column": null,
      "grid_gap": null,
      "grid_row": null,
      "grid_template_areas": null,
      "grid_template_columns": null,
      "grid_template_rows": null,
      "height": null,
      "justify_content": null,
      "justify_items": null,
      "left": null,
      "margin": null,
      "max_height": null,
      "max_width": null,
      "min_height": null,
      "min_width": null,
      "object_fit": null,
      "object_position": null,
      "order": null,
      "overflow": null,
      "overflow_x": null,
      "overflow_y": null,
      "padding": null,
      "right": null,
      "top": null,
      "visibility": null,
      "width": null
     }
    },
    "8cb3be27eba04148a4c5ec0172e8fda0": {
     "model_module": "@jupyter-widgets/controls",
     "model_name": "DescriptionStyleModel",
     "model_module_version": "1.5.0",
     "state": {
      "_model_module": "@jupyter-widgets/controls",
      "_model_module_version": "1.5.0",
      "_model_name": "DescriptionStyleModel",
      "_view_count": null,
      "_view_module": "@jupyter-widgets/base",
      "_view_module_version": "1.2.0",
      "_view_name": "StyleView",
      "description_width": ""
     }
    },
    "7d001a1e591c4c0c8720997270ec8f1c": {
     "model_module": "@jupyter-widgets/base",
     "model_name": "LayoutModel",
     "model_module_version": "1.2.0",
     "state": {
      "_model_module": "@jupyter-widgets/base",
      "_model_module_version": "1.2.0",
      "_model_name": "LayoutModel",
      "_view_count": null,
      "_view_module": "@jupyter-widgets/base",
      "_view_module_version": "1.2.0",
      "_view_name": "LayoutView",
      "align_content": null,
      "align_items": null,
      "align_self": null,
      "border": null,
      "bottom": null,
      "display": null,
      "flex": null,
      "flex_flow": null,
      "grid_area": null,
      "grid_auto_columns": null,
      "grid_auto_flow": null,
      "grid_auto_rows": null,
      "grid_column": null,
      "grid_gap": null,
      "grid_row": null,
      "grid_template_areas": null,
      "grid_template_columns": null,
      "grid_template_rows": null,
      "height": null,
      "justify_content": null,
      "justify_items": null,
      "left": null,
      "margin": null,
      "max_height": null,
      "max_width": null,
      "min_height": null,
      "min_width": null,
      "object_fit": null,
      "object_position": null,
      "order": null,
      "overflow": null,
      "overflow_x": null,
      "overflow_y": null,
      "padding": null,
      "right": null,
      "top": null,
      "visibility": null,
      "width": null
     }
    },
    "14a53ead840b46b8be55916e98a906b8": {
     "model_module": "@jupyter-widgets/controls",
     "model_name": "ProgressStyleModel",
     "model_module_version": "1.5.0",
     "state": {
      "_model_module": "@jupyter-widgets/controls",
      "_model_module_version": "1.5.0",
      "_model_name": "ProgressStyleModel",
      "_view_count": null,
      "_view_module": "@jupyter-widgets/base",
      "_view_module_version": "1.2.0",
      "_view_name": "StyleView",
      "bar_color": null,
      "description_width": ""
     }
    },
    "a9996d2af7ea4a15b75423c030c79775": {
     "model_module": "@jupyter-widgets/base",
     "model_name": "LayoutModel",
     "model_module_version": "1.2.0",
     "state": {
      "_model_module": "@jupyter-widgets/base",
      "_model_module_version": "1.2.0",
      "_model_name": "LayoutModel",
      "_view_count": null,
      "_view_module": "@jupyter-widgets/base",
      "_view_module_version": "1.2.0",
      "_view_name": "LayoutView",
      "align_content": null,
      "align_items": null,
      "align_self": null,
      "border": null,
      "bottom": null,
      "display": null,
      "flex": null,
      "flex_flow": null,
      "grid_area": null,
      "grid_auto_columns": null,
      "grid_auto_flow": null,
      "grid_auto_rows": null,
      "grid_column": null,
      "grid_gap": null,
      "grid_row": null,
      "grid_template_areas": null,
      "grid_template_columns": null,
      "grid_template_rows": null,
      "height": null,
      "justify_content": null,
      "justify_items": null,
      "left": null,
      "margin": null,
      "max_height": null,
      "max_width": null,
      "min_height": null,
      "min_width": null,
      "object_fit": null,
      "object_position": null,
      "order": null,
      "overflow": null,
      "overflow_x": null,
      "overflow_y": null,
      "padding": null,
      "right": null,
      "top": null,
      "visibility": null,
      "width": null
     }
    },
    "1d1fb3ee65d04531b1e61d86dcb762b6": {
     "model_module": "@jupyter-widgets/controls",
     "model_name": "DescriptionStyleModel",
     "model_module_version": "1.5.0",
     "state": {
      "_model_module": "@jupyter-widgets/controls",
      "_model_module_version": "1.5.0",
      "_model_name": "DescriptionStyleModel",
      "_view_count": null,
      "_view_module": "@jupyter-widgets/base",
      "_view_module_version": "1.2.0",
      "_view_name": "StyleView",
      "description_width": ""
     }
    },
    "d76a147a88f542b68ba7b74f491521b7": {
     "model_module": "@jupyter-widgets/controls",
     "model_name": "VBoxModel",
     "model_module_version": "1.5.0",
     "state": {
      "_dom_classes": [
       "widget-interact"
      ],
      "_model_module": "@jupyter-widgets/controls",
      "_model_module_version": "1.5.0",
      "_model_name": "VBoxModel",
      "_view_count": null,
      "_view_module": "@jupyter-widgets/controls",
      "_view_module_version": "1.5.0",
      "_view_name": "VBoxView",
      "box_style": "",
      "children": [
       "IPY_MODEL_41412116a8a14828a5774cdb936e89ee",
       "IPY_MODEL_a08c07146ed6499db237ad25d840c66c"
      ],
      "layout": "IPY_MODEL_a210d032aa73488ebb39ccf45c62a853"
     }
    },
    "41412116a8a14828a5774cdb936e89ee": {
     "model_module": "@jupyter-widgets/controls",
     "model_name": "ToggleButtonsModel",
     "model_module_version": "1.5.0",
     "state": {
      "_dom_classes": [],
      "_model_module": "@jupyter-widgets/controls",
      "_model_module_version": "1.5.0",
      "_model_name": "ToggleButtonsModel",
      "_options_labels": [
       "Pipeline Plot",
       "Hyperparameters",
       "AUC",
       "Confusion Matrix",
       "Threshold",
       "Precision Recall",
       "Prediction Error",
       "Class Report",
       "Feature Selection",
       "Learning Curve",
       "Manifold Learning",
       "Calibration Curve",
       "Validation Curve",
       "Dimensions",
       "Feature Importance",
       "Feature Importance (All)",
       "Decision Boundary",
       "Lift Chart",
       "Gain Chart",
       "Decision Tree",
       "KS Statistic Plot"
      ],
      "_view_count": null,
      "_view_module": "@jupyter-widgets/controls",
      "_view_module_version": "1.5.0",
      "_view_name": "ToggleButtonsView",
      "button_style": "",
      "description": "Plot Type:",
      "description_tooltip": null,
      "disabled": false,
      "icons": [
       ""
      ],
      "index": 0,
      "layout": "IPY_MODEL_5e78b74cf5fb4c8880ff0f8be6ca2e8b",
      "style": "IPY_MODEL_b4eafed602714460aa6c10784a7b0b39",
      "tooltips": []
     }
    },
    "a08c07146ed6499db237ad25d840c66c": {
     "model_module": "@jupyter-widgets/output",
     "model_name": "OutputModel",
     "model_module_version": "1.0.0",
     "state": {
      "_dom_classes": [],
      "_model_module": "@jupyter-widgets/output",
      "_model_module_version": "1.0.0",
      "_model_name": "OutputModel",
      "_view_count": null,
      "_view_module": "@jupyter-widgets/output",
      "_view_module_version": "1.0.0",
      "_view_name": "OutputView",
      "layout": "IPY_MODEL_9126bb466a50421593fd0ca939546ee5",
      "msg_id": "",
      "outputs": [
       {
        "output_type": "display_data",
        "data": {
         "text/plain": "<Figure size 1200x600 with 1 Axes>",
         "image/png": "iVBORw0KGgoAAAANSUhEUgAABKAAAABqCAYAAACLZSl9AAAAOXRFWHRTb2Z0d2FyZQBNYXRwbG90bGliIHZlcnNpb24zLjcuMSwgaHR0cHM6Ly9tYXRwbG90bGliLm9yZy/bCgiHAAAACXBIWXMAAA9hAAAPYQGoP6dpAAAwNElEQVR4nO3dd1gU59oG8HspKx0EARHsDQtqbFEUu6LGLvZYib0mmmiMXeMxNtRjO8aCHD5jCsYjmhy7RrCgQUGsiCiiYEARUBGUfb8/ODthZVEQ12HZ+3dde12zszOzzy6878488xaFEEKAiIiIiIiIiIhIR4zkDoCIiIiIiIiIiEo2JqCIiIiIiIiIiEinmIAiIiIiIiIiIiKdYgKKiIiIiIiIiIh0igkoIiIiIiIiIiLSKSagiIiIiIiIiIhIp5iAIiIiIiIiIiIinWICioiIiIiIiIiIdIoJKCIiIiIiIiIi0ikmoIiIiIiIiIiISKeYgCIiIiIiIiIiIp0ykTsAufz888+YN28e0tPT32n/jIwMpKenw9raGubm5u85Oiquivp3t7a2xuLFi+Hj46OD6IqHtLQ0/P777zh+/DguXbqE27dv4/Hjx8jOzpY7NKJCs7CwgKurK2rVqoXmzZujS5cuqFevHhQKhdyhFQvx8fHYv38/Tp06hcuXLyMuLg5paWkQQsgdGlGhKBQK2NjYoEKFCvDw8ICXlxc++eQTlC9fXu7QPph79+6hU6dOuH79utyhEBGVaJUrV8bBgwdRvXp1uUP58ISBcnd3FwD44OODP9zd3eX+99eJyMhIMXToUGFmZib7d8wHH7p81KlTR2zevFm8ePFC7mInC5VKJX777TfRoUMH2f8WfPCh60f79u3FgQMHhEqlkrvo6dy3334r+/fNBx988GEoDz8/P7mrfVkYbAsodcsnIyMjuLi4FHr/hIQEqFSqd96f9FNR/u7qfd+11V1xlZycjC+//BI7d+7M0+pBoVDA1dUVTk5OMDU1lSlConejUqnw9OlTxMXF4dmzZ9L6K1euYNy4cVi2bBnWrl2LHj16yBjlhxUVFYUJEybg1KlTeV4zNTVFhQoVULp0aRgbG8sQHdG7y87ORkpKCuLi4vDy5Utp/dGjR3H06FG0bNkSGzduhIeHh4xR6ta9e/ekZQ8PD1hYWMgYDRFRyfPgwQOprrWzs5M3GJkYbAJKzcXFBfHx8YXez83NDffv33/n/Uk/FeXvrt63JDl27BgGDx6Mhw8fSutKly6NwYMHo2fPnmjWrBmsra1ljJCo6FQqFW7duoXDhw9j165dOH36NADgzp076NmzJ0aOHIkNGzaU6O7YQgj885//xIwZMzQuzqtWrYqhQ4eia9euqF+/PpRKpYxREhXdy5cvcenSJfz+++8ICAhATEwMACAkJASNGjXCihUrMGXKlBLZDTchIUFa/u9//4ty5crJGA0RUcnzzTffYOnSpQBgsHUsByEnoneyY8cOdOrUSUo+2draYuXKlYiPj8f69evRsWNHJp+oRDAyMkKNGjUwceJEhIaG4vz582jfvr30+o4dO9CuXTs8fvxYxih1Jzs7G+PHj8fUqVOl5FP16tXxyy+/4ObNm5g/fz6aNGnC5BOVCKampmjSpAnmzZuHmzdvIigoCDVq1ACQk5yaNm0axo0bVyLHNXzw4AGAnNbLTk5OMkdDRFTyqOtZAAbbi4oJKCIqNH9/f4waNUo6Aff29sa1a9cwffp0NtmnEq9x48Y4fPgw/P39pf/3s2fPomPHjkhLS5M5uvdLCIFx48bhX//6l7Ru+vTpiIyMRN++fWFkxNMIKrmMjIzQp08fREREYMaMGdL6LVu2YMyYMSVusH11CyhnZ2eYmBh8Jwkiovcud0tTtoAiIiqAkydP4rPPPpOeT506FQcOHDDYLD4ZJoVCgeHDhyM0NBTOzs4AgPDwcAwePBgqlUrm6N6f5cuXY+vWrQAAExMTBAYGYuXKlTAzM5M5MqIPx8zMDCtWrMCuXbukxMz27duxbNkymSN7f1QqlXRhxN9zIiLdULeAUiqVsLe3lzkaeTABRUQFlpKSgsGDB0stnyZPngw/Pz8OOEwGq0GDBjh+/Lh0EnHgwAGsWbNG3qDek3PnzmH27NnS88DAQAwZMkTGiIjkNWjQIOzatUt6PmfOHJw5c0bGiN6fpKQk6bfdUO/KExHpmjoB5eLiUiLHEiwIJqCIqMBmz54tVZzt27eHn5+fwVaeRGq1atXC7t27pbIwZ84cxMXFyRxV0WRnZ2P06NFSa6558+ZhwIABMkdFJL9+/fph/vz5AHJaDY0ZMwavXr2SOaqiY7cQIiLdyszMxKNHjwAYdj3LBBQRFUh0dDS2bNkCALCysoK/vz9bPhH9T8eOHTFp0iQAQEZGBhYuXChzREUTGBiIy5cvAwAaNmyIuXPnyhwRUfExZ84cNGrUCAAQFRWFwMBAmSMqOg6MS0SkW4mJidKyIdezTEARUYGsXr1aag0xa9YsuLm5yRwRUfGycOFC2NnZAQACAgI0WhToEyEEVqxYIT338/PjgMREuZiYmMDPz096vmLFCr0fkJwtoIiIdIv1bA4moIjorV68eCGNe2FpaSm19CCiv5UuXRrjx48HALx69UpvW0WcP38eV65cAQB4enqiVatWMkdEVPx4eXmhRYsWAICrV6/i3LlzMkdUNGwBRUSkW7nrWSagiIje4Pjx49L08j4+PrC1tZU5IqLiadSoUdLy3r175QukCHLHnfvzEJEmX19faVlfy7saL4yIiHSLif4cTEAR0VudOHFCWu7evbt8gRAVc9WqVYO7uzuAnFnknj9/LnNEhZe7vHfr1k2+QIiKudzlI3e50UfsGkJEpFusZ3MwAUVEb3Xp0iVpuXnz5vIFQqQH1GUkOztb6sqmL1QqFSIiIgAAVapUgbOzs8wRERVfjo6OqFatGgAgMjJSGidRH6nvzCsUCjg5OckcDRFRycMWUDmYgCKit7pz5w6AnNnvDLnCJCqImjVrSsvqsqMvkpOTpVZbuT8HEWmnLicZGRlISkqSOZp3p74z7+zszEkHiIh0gC2gcjABRURvlZKSAgAoU6YMFAqFzNEQFW9lypSRltVlR1/kjjf35yAi7fS5vKupVCrpwog3mYiIdEPdAkqpVMLe3l7maOTDBBQRvVV2djYA8K4oUQHkLifqsqMvcsdramoqYyRE+kGfy7taUlKSFLsh35UnItIldQLKxcXFoG/oMwFFRET0HhnySQUR6R92CyEi0q3MzEw8evQIAOtZJqCIiIiIiAwUB8YlItKtxMREadnQ61kmoIiIiIiIDBRbQBER6Rbr2b8xAUVEREREZKDYAoqISLdy17NMQBERERERkUHihRERkW4x0f83JqCIiIiIiAwUu4YQEekW69m/MQFFRERERGSg1HfmFQoFnJycZI6GiKjkYQuovzEBRURERERkoNR35p2dnWFiYiJzNEREJQ9bQP2NCSgiIiIiIgOkUqmkCyNDvytPRKQr6hZQSqUS9vb2MkcjLyagiIiIiIgMUFJSErKzswHwrjwRka6oE1AuLi5QKBQyRyMvJqCIiIiIiAwQu4UQEelWZmYmHj16BID1LMAEFBERERGRQeLAuEREupWYmCgts55lAoqIiIiIyCCxBRQRkW6xntXEBBQRERERkQFiCygiIt3KXc8yAcUEFBERERGRQeKFERGRbjHRr4kJKCIiIiIiA8SuIUREusV6VhMTUHpixIgRUCgUeR7m5uZo0KAB/Pz8pGl0iwt/f38oFAqEhITIHQqR5NatW5g6dSpq1qwJKysrlCpVCpUqVcLIkSMRFxcHADhx4gQUCgUCAwM/SEzvWlZYxojyx7JO9HbqO/MKhQJOTk4yR6O/itt5+p07d6BQKLBkyZIP9p6VKlXS+h2oH5999tkHi6WoDh48iJ49e6Js2bJQKpVwcXFBhw4dEBgYCCGEtN2CBQugUCgQHx//wWPU9ruwYsUKlC5dGkqlEqdPn8aIESNgYmLywWMjTWwBpYkJKD1ibGyMhIQEjce5c+fQu3dvzJgxA+PHj5c7xPciIiICCoVC7jCoBLp16xYaNWqEsLAw+Pn54erVq4iIiMCiRYtw+PBhtGjRAklJSfD09ERCQgJ8fHzkDllv9e7dGwsWLJA7DDJQLOsfDsu6flPfmXd2duaFahEZynn6m3h5eeX5DtSP1atXyx2ehvyuN6ZOnYquXbuifPny+PXXXxEdHY1ffvkFNWvWxPDhw+Hj4wOVSiVDxJoGDBiAhIQEfPzxxwCAtLQ0zJo1C82aNUN0dDQaNmyItWvX4v79+zJHSmwBpYm/NHqmbNmyeZ7Xq1cP9+/fx9atW7FkyRK9v4P1xx9/yB0ClVDbtm1DWloa9u7dC2dnZ2m9u7s73N3dMXr0aJw7dw7dunXLU9ao4IQQCAkJQf369eUOhQwUy/qHwbKu31QqlXRhxLvy74chnKe/iVKp1Js6Vdv1hr+/P9atW4fNmzdj7Nix0vqKFSuiRYsWqFOnDiZOnIhffvkF/fv3/5Dh5mFubg5zc3PpeUpKClQqFVq0aIGKFSsCAMzMzGBraytXiPQ/6hZQSqUS9vb2MkcjP7aAKiEaNGgAIYTUrQDI6VrQsWNH2NjYwMzMDDVq1MDixYvx6tUrAMDQoUNRrVo1jeNs2LBBa5Pdpk2bokePHvm+f3h4OFq2bAkzMzM4OTlh8uTJyMjIyLPdnj174OnpCUtLS1hYWKBu3brYuHGj9PqIESMwZcoUADnNwUeMGAEAePz4McaNGwdXV1eYmprCxcUFPj4+iImJKdwXRQZN/T/5/PnzPK81bdoUERER6NatW55uObmbOXfv3h3W1tYoU6YMZs6ciczMTEybNg1OTk4oXbo0Bg4ciLS0NOm4CoUCX375Jfz8/FCpUiWUKlUKderUwd69e98Y6+XLl9GzZ0+4ubnB3Nwc9erVw/bt29/6GRUKBebMmYOlS5fCzc0NFhYWaNOmDe7du4e9e/eibt26sLCwQIMGDRAaGirtN2LECDg6OuLixYvw9PSEubk5HB0dMW3aNGRlZWkc//Vm9CEhIVAoFPD398edO3dgZGSE5ORkLFy4EAqFAnfu3CnwZ6pUqRJGjBiBr776CtbW1h+0+wCVHCzrLOv0dklJSVK3MN6V163Xz9Pfdo4O5JTVSpUqISIiAm3atIGVlRVcXFwwduxYjXPs5ORkDBgwADY2NrC2tkb37t1x9+7dPDH89ddfGD16NMqVKwdTU1OULVsWw4YN02gho+5SduXKFbRp0waWlpYoV64c/Pz8kJaWhmHDhqF06dJwdHTE+PHjNeItjGPHjqFNmzawtraGmZkZateujVWrVml0b8uvjsjIyMDMmTNRu3ZtmJubw8XFBePHj0dKSoq078uXLzFnzhxUr14d5ubmsLe3R8eOHXH69Gnpu9V2vfGPf/wDDRo00Eg+5TZu3DjExMS8Mfm0ZcsWfPTRRzA3N4eNjQ0aN26Mn3/+WWOba9euoU+fPihbtixKlSqF8uXLY8KECRq/Kb/99htatmwJe3t7WFhYoHbt2li5cqX0HeX+vfL390elSpUAAHPnzoVCocCJEye0dsHbu3cvvLy8YG9vD2tra7Rp00bjN0LdfXP9+vXo3LkzzMzMcOrUqXw/L72dOgHl4uLCXj5gAqrEuHr1KoyMjKTKJy4uDp07d4atrS3OnDmDGzduYO7cuVi0aBGWLVsGAOjSpQtiYmI0+i0fPnwYFSpUwLFjx6R1T548QXh4OD755BOt752amgpvb2+kpqbiyJEj+OOPP+Dg4IBvv/1WY7uzZ8/Cx8cHDRs2xMWLFxEVFYWRI0di4sSJ0sn/2rVrMXjwYAA5zRXXrl0LABgyZAj27t2LgIAA3L59G7/++itiYmLQtWvXYjf2FRVf3bp1AwC0atUKGzZs0HqC9iaff/45hg0bhkuXLuHTTz/F8uXL0aFDBzg5OeH06dNYv349fvzxR6xfv15jv59++gkRERHYv38/zpw5g3LlyqFfv36IiorS+j6xsbHw8vLC/fv3sXv3bly6dAk+Pj7w9fXFli1b3hrn7t278fDhQxw9ehR79uxBWFgY+vXrhw0bNiAgIAChoaHIysrCyJEjNfZLTU3FlClTsHjxYkRGRuKrr77CunXrMG/evAJ/R+XLl0d4eDgAYPr06UhISED58uUL9ZlCQ0Px4MEDnD9/HpMmTSrwexOpsayzrNPbsVvIh5P7PL0g5+hq6enpmDBhAmbNmoXIyEhMnjwZW7Zs0bh5O2jQIBw8eBDbtm3DxYsX0b9/f0yYMEHjOFlZWWjfvj0OHjyIDRs24MaNG9i2bRv++OMPtGvXDpmZmRrbT548GV9//TUiIiLg5eWF6dOno1evXmjRogUuXLiAr776Cps3b8ZPP/1U6O/i1KlT6NSpE+zt7XH8+HFERkbi008/xZdffpmnO6+2OmLAgAFYv349vvjiC1y5cgVbtmxBcHAwunXrJiVnli5dijVr1mD58uW4fv06Tpw4ARcXF7Rv3x6JiYlarzfu37+PmzdvSr8f2hgZGaFKlSr5vv7jjz9i7Nix8PHxwZUrV/Dnn3+idevWGDBggEaLq65du+Lx48c4cOAAbt26hW3btuHgwYMYNmwYACA6Ohq9evXCRx99hNOnT+Pq1auYPn065s6dK10b5TZgwACEhYUBAGbOnImEhAR4enrm2W7Pnj3o3bs3KlSogFOnTknXbB06dEBERITGtuvWrUOHDh1w48YNNG7cON/PTG+WmZmJR48eAWA9KxEGytXVVQAQrq6usuxfWMOHDxfGxsZ51j99+lT4+/uLUqVKiREjRkjrX7x4Ia5fvy6ePHmisX2TJk3Exx9/LIQQIjk5WRgZGYmAgAAhhBAvX74UNjY2YsWKFcLMzExkZGQIIYTYs2ePACDi4uK0xrZ9+3YBQPzxxx8a63v16iUAiFOnTkmxXrlyRTx//lxjO0dHRzFgwADpua+vr3j9XzMuLk7ExsZqrNuwYYMAIK5du6Y1Ll0oyt/9Q//PFFVERIS4cuWKUKlUwt7eXgAQ1apVkzusItu5c6coW7asACD9PQYPHix2794tsrKyhBBCHD9+XAAQ//73v4UQQuzYsUMAEEuWLJGO8/DhQwFAtGvXTuP4tWrVEr1795aeAxBly5YVL1++lNbdvn1bABBff/21xvHVZWXSpEnCxMRExMfHaxy7e/fuwtXVVahUKq37qd+vRo0a0jZCCNGlSxcBQNy9e1da99133wkAIjU1VQiRU8cAEMHBwRrv2bp1a+Hi4qJxfF9fX41tTp06JQCIHTt2CCGEuHfvngAg5s+fL21T0M9UsWJFYW5uLtLT04W+2rlzp/T/tXHjRrnDKZATJ06IBw8eiCtXrkixjxo1Su6wioRlPQfLum6pz1kAiKioKLnDKZDg4GCRnp4uDhw4IMU+b948ucPSa4U5Ty/IObr6mADE0aNHpXUqlUrY2NiIvn37CiH+rmMWLVqkcaw1a9YIAGLx4sVCCCF+/PFHAUDs379fY7vg4GABQPz8889CCCHmz58vAIjAwEBpm3PnzuX5TcjOzhaWlpbi888/l9ZVrFhRtG/f/q3fVZcuXYSLi4tUD6v17dtX2NraSnWotjriwoULAoD47rvvNPYNCgoSAMShQ4ek96hVq5bGNhkZGeLMmTPi6dOnQoi81xtnz54VAMTWrVvf+hnU1N/XvXv3hBBCPHnyRERGRors7Gxpm2fPngkAYubMmUKIv39Tli1bpnGs2NhYqQ5R/73Onj2rsc2lS5ek67HXfxdiY2M1/uZC5P2/rFu3rqhTp47G78bz58+Fk5OTGDx4sMZxvLy8Cvw9UP7u3Lkj1bN9+vSRO5xiwWDHgFI3N9Wngdmys7NhZWWlse758+dwcnLCtGnTsHjxYml9qVKlEB0djS+++AKXL19GSkoKhBDIyMhA5cqVAQAODg5o2rQpjh8/jqFDhyIsLAyZmZkYN24cFi9ejNOnT6Ndu3Y4evQoPDw8UL58ea1xRUZGAgAaNWqksb5Vq1YaXQ8sLS3x559/YtKkSbhx4wbS0tIghMDz58+RnJz8xs+uUqmwcuVKHDlyBA8fPsTLly+lZr9v27e4UDeXTkhIgJubm8zRvF16ejrS0tLg7OystRuLvho2bBgGDRqEkydP4uTJkwgJCUFQUBB27dqFunXr4tChQ/num/sOkKOjIwCgYcOGGts4OjpqNAMHgObNm2s0ga5cuTIcHBxw+/Ztre9z+vRp1K1bF66urhrrvb29ERwcjMTExDeO19GwYUONJr6Ojo4oU6YMKlSokCf+lJQU2NjYSOtbtWqV5zOfPHkSL168gJmZWb7v+TaF+Uy1a9fOU9fpq9mzZ+dpDVocPXnyBM+ePUOdOnXkDuW9YVnXjJ9lXffat2+vFwN5JyQkwMjICDVr1pTWcQyooivoeXpBztFza968ubSsUChQpkwZqUXFm87Bczt37pzW9S1atAAAnD9/XmMyhrfVgUZGRnBwcMhTB544cSLfMr127Vr4+vri3LlzaNOmDUxNTfPEEhQUhOjoaNSqVQtA3jpC3YXO29tbY9+OHTtCoVDgwoUL6NixI/r27YvPPvsMbdu2xZAhQ9C6dWtUr14dzZo10xobAKkuFbm6ARaWlZUVTpw4gTFjxiA2NhZPnz6VXlNfrzg6OqJVq1ZYsGAB7t27B29vb7Rq1UrqxQIALVu2RNmyZdGnTx+MGTMGbdu2RbNmzYo03l56ejqioqIwbdo0jd8Nc3NztGrVChcuXNDYvmnTpu/8XvQ3tjTNq/j/SpLE2NgYly5dkp6npaWhffv28PLyytNkNzg4GD169IC3tzd27NgBNzc3GBsbY8iQIdKPFpDTDW/Hjh0AcrrfeXp6wsrKCl5eXjh27BjatWuHI0eOoHfv3vnGlZaWBoVCAQsLC431uU90AWD9+vWYPHkyBg8ejIULF8LZ2RlGRkZo06bNGz/38+fP0apVK2RkZGDFihVo2LAhzM3NsWfPHsycOfON+xYn6enpAHKSafqU+LS2tkZWVhZevHghdyjvjampKTp06IAOHToAyOmOsmrVKixevBizZ8/G8OHDte5naWkpLat/vHOvU69//eTFzs4uz7GsrKzynLippaamIjY2Ns9JnLq76f379994saAtJm3rAM0TLYVCkafcqmNISUkp0gVKYT6Ttu9LXz158gRPnjyRO4wCKVu2LL788ktpLIySgGWdZf1DevjwodwhFFi5cuXQpk0bXLlyBQDyJAyp8Ap6nl7Qc3T1MXMPNA1o1j3qMYNeL2+vl+/U1FQoFApYW1tr3S732EPAu9eBH3/8MXbu3Alt1IOvp6amah0YW1ssr9cRqampAABPT888Y+kIIaTza19fX1SsWBEbN27EjBkzkJqaiho1amDevHkYMmSI1vjUA3dHR0drfb0gZs6ciVWrVmHKlClYs2YN7O3toVAoUL16dWkbhUKB33//HZs2bcJPP/2ETZs2wcjICJ07d8bq1atRvXp1lCtXDufPn4efnx8CAwOxYMEC2NjYYMiQIVi+fPk7Je7V392GDRvw/fffa7yWlZUFpVKpsa6k1c9yUY//BDABpcYElJ55fdDwFStWYPTo0di9ezcGDhword+5cyesrKywd+9ejTuZr18IdenSBfPnz8edO3dw6NAhdO3aFQDQtm1bBAUF4f79+7hx44a0XhsrKysIIfLcNX38+LHGdv7+/qhevToCAwOlHw2VSpVnu9cdO3YMcXFxCAwM1PjR0Lexn6ytrfH48WMYGRnpzZ1Ga2trLF68ON/BGPXNq1evkJGRkecEzNbWFosWLUJwcDD+/PPPfC9K35U6+fj6OgcHB63b29vbw9LSEkFBQVpf19WFghACz5490zjJVMeee9aO1084tX2+18n1meRmZ2eX56S9OFKX9dq1a8sdynvBsv5mLOu64ezsrBctoNTl/ejRo9I6fTkvKe4Kcp5e0HP0glAnIl5vqf76ubWdnR2EEHmSP+r3fF/JBnNz8zzfwevs7Oy0JuULEou6ftqzZw+qVq2a5/XciTf1zYfs7GycO3cO3333HT799FO4ubmhdevWefZ1dnaGh4cH9uzZg6VLl8LY2FhrDJs2bUKvXr20lhl/f3906NBBY5ym3C1g1CwsLDB9+nRMnz4dT548wYEDBzBz5kx4e3sjJiYGCoUCbm5uWLVqFVatWoW4uDjs2rULCxYsQEZGhtR4oDBKly4tDbj+1VdfFXp/eje5E1CsZ3MU/19JHXF1dcX9+/f1/kTI19cX//d//4dJkyahbdu20nTTWVlZsLKy0vhhCwkJwc2bNzUGz2vcuDGcnJzwn//8B2FhYVi9ejWAnATUrFmzsG/fPpQuXVrrQHZq6guWM2fOoG3bttL6EydOaGyXlZUFBwcHjTsWP/zwAzIyMrQ2dxVCQKFQSLPylClTRnrt1atXCAgIkLbTB+o7WC4uLhoDv+uDkpCAev78OSpUqABPT0/s27cvz+uZmZlISkrSyXTiISEhGneXYmJi8Pjx43wv9lu0aIFt27ahTJkyGidiDx48gFKpzHM39H06duwYunfvLj0PCwtD1apVUapUKQA5J4ZJSUka+4SEhGg9Vu6yKednktPSpUsxfvx4ucMosKtXr8odQpGxrBcMy/r7d/ToUb3qxqqeAAbgnXld0XaeXtBz9ILIfQ7euXNnaf3r5+Aff/yxtL5nz57S+pMnTwLAG7umvW8ff/wxTp8+nafVzcmTJ+Hg4KDRWuh16i6D8fHxGt3wsrOzcePGDTg6OiI7OxvBwcFwd3eHu7s7jI2N4enpie3bt6NMmTI4e/asRgJKfb0B5HSbHzRoEBYtWoSFCxfmef/vv/8eEyZMgLGxMcaMGZPn9aysLI3rFQDSDKDqejI+Ph7Hjx/HkCFDYGRkBDs7OwwZMgSJiYmYMWMG/vrrLyQkJOD+/fvSBFAVKlTArFmzEBoairNnz775C86HpaUl6tevj2vXruVJEkZHR+vF8CD6iF3w8uIseHpOoVDg+++/x/PnzzWSBC1atEBiYiI2btyIO3fuYNeuXZg4cSK6d++OBw8eICoqCpmZmVAoFPD29oafnx8sLS2lPt8NGjSAlZUVVq1aBW9v73zvAgBA3759YWNjg88//xxnzpzB9evXMXfuXKlZd+6YLly4gKCgINy5cwcbNmzApk2b0KxZM9y8eRO3bt1Cdna2dHfj119/xfXr19GkSRMolUqsWbMGN2/eRFhYGDp16iQlu0JCQvLt3kCkZmFhgfnz52P//v3o3bs3jhw5gri4ONy6dQv79u1Dx44dkZKSUqhZoArKyMgIvr6+uHz5MsLDwzFmzBiYmpri008/1br9tGnTYGRkhL59+yI0NBR3795FcHAwWrZsiaFDh773+NSMjY3xj3/8A4cOHUJ0dDSWLVuG0NBQjBo1StqmWbNmOHLkCPbv34/bt29j69atOHjwoMZx1HfZzpw5g8jISKSkpMj2mcjwsKy/Hcs6AX/fmVcoFFL3KHq/tJ2nF/QcvSBq1qyJ5s2b45///Kc0Q3RAQIB0k1atV69e8PDwwKRJk7B//37ExsZi7969mDJlCho2bJjvTNe6MHv2bDx69AiDBg1CREQErl+/jnnz5iE4OBizZ8+GkVH+l6f169dHr169MGvWLAQGBuL27dsIDw/H0KFD0bRpU8TGxsLY2BjLly9Hnz59cOjQIcTFxeH69etYsmQJTExMpOTT69cbADBw4EDMmDEDixYtksYQjIuLw7lz5zBhwgSMHTsW06ZN05p8AnL+tr///juOHTuGmJgYLFq0CBcuXED58uURGRmJu3fvIi0tDSNHjsS4ceNw6dIlxMfHIyQkBIGBgfDw8ICTkxPCwsLQu3dv6donLi4OQUFBCAkJkbqUv4v58+cjNDQUU6dORUREBGJiYrBp0ybUr18f69ate+fjUv7YAkqLDzfeefFSUmbBU1PPcqOe0S4jI0OMHj1aODg4CGtra9G5c2cRHR0tQkNDhbOzs7C2thaRkZFCCCF27dolAIgePXpoHLNnz54ax3yTU6dOiSZNmgilUinKlCkjJkyYIHbv3q0xO0NycrLw8fERtra2ws7OTvTv3188fPhQBAUFCVtbW2Fvby+Sk5PFjRs3hLu7uzA1NZVi2r17t6hevbowMzMTtWrVEv/+979FVlaWaN26tVAqlWLOnDnv9L0WliHNgpdbSZoF78iRI6Jfv36iUqVKwtzcXJQqVUpUrVpV+Pr6SjMq5jczVu4ZqIQQeWZ/EiJnJqnWrVtrbOPr6yuWL18uKlasKJRKpahdu7bYt2+ftI2240dFRYmePXuK0qVLC2NjY1G+fHkxY8YMafaW/PZTv19uw4cPFxUrVtRYp95XPbukuo4JCwsTzZs3F2ZmZqJMmTJi2rRpGrN6xcTEiI4dOwpra2tha2srBg4cKM1Ko54ZSwghZs2aJSwtLYWNjY0UX0E+U0Fn0SnO9HEWPLWSNAsey7rmvizruqGPs+Cpubm5SbM3UtEU5jy9oOfo+R2zatWqGnVPfHy86NGjh7C0tBRWVlaia9euIiIiIs+MaH/99ZcYOXKkcHZ2FiYmJqJcuXJi3Lhx4tGjR9I2r8/qJsTfs6LlLvdC5JTh4cOHazwvaJk+cuSI8PLyEpaWlqJUqVKifv36eWafy+94GRkZ4uuvvxaVK1cWJiYmwtbWVnTr1k1cuHBB2iYpKUn4+voKV1dXoVQqhYODg2jTpo347bffpG20XW+oHT58WPTq1Us4OzsLU1NT4ebmJrp16yb++9//amz3+vcVGxsrOnbsKKysrISjo6MYO3asePr0qVi3bp2wtLSU6ucjR46Itm3bCjs7O6FUKkWFChWEr6+vxuyh69evF/Xq1ROWlpbCwsJCuLu7i/nz50uzB77LLHhCCLFv3z7RvHlzYW5uLpRKpfDw8NA4V9F2HHp33t7e0m9EcnKy3OEUCwoh9KT/0nvm5uYmdcF7l+5QRd2f9FNR/u76/D/j4OCAx48fo1q1akUanNEQKRQK+Pr6YuvWrXKH8kYjRoxAYGCgNLskvbuAgABpbKGNGzfqXRc8dReiUaNGYdu2bTJHpD9Y1g3TZ599JpWTqKgovemCp1KpoFQqkZ2djYYNG+LPP/+UOyQiohKnXr16uHz5MpRKJV68eJFn8HxDxC54REREREQGJCkpSZrMhd1CiIh0Q90Fz8XFhcmn/2ECioiIiIjIgHBgXCIi3crMzMSjR48AsJ7NzWBnwSMi+hD0pZezv78//P395Q6DSG+xrJM+4cC4RES6lZiYKC2znv0bW0ARERERERkQtoAiItIt1rPaMQFFRERERGRAcreA4oUREdH7x3pWOyagiIiIiIgMCLvgERHpFutZ7ZiAIiIiIiIyIOwaQkSkW6xntWMCioiIiIjIgKjvzCsUCjg5OckcDRFRycMWUNoxAUVEREREZEDUd+adnZ1hYsJJsYmI3je2gNKOCSgiIiIiIgOhUqmkCyNeFBER6Ya6BZRSqYS9vb3M0RQfTEARERERERmIpKQkZGdnA2C3ECIiXVEnoFxcXKBQKGSOpvhgAoqIiIiIyECwWwgRkW5lZmbi0aNHAFjPvo4JKCIiIiIiA8GBcYmIdCsxMVFaZj2riQkoIiIiIiIDwRZQRES6xXo2f0xAEREREREZiNwtoHhhRET0/rGezR8TUEREREREBoJd8IiIdIv1bP6YgCIiIiIiMhDsGkJEpFusZ/PHBBQRvZV66lAhhMyREBV/KpVK7hDeC5Z3orfTx3KivjOvUCjg5OQkczRERCUPW0DljwkoInorCwsLAMDTp09ljoSo+MtdTiwtLWWMpPByx5ueni5jJET6IXd5V/9WFnfqO/POzs4wMTGRORoiopKHLaDyxwQUEb2VOnP/119/4cWLFzJHQ1S8xcXFScv6dtfL2dlZWs79OYhIu9zlpGzZsjJGUjAqlUq6MOJFERGRbqhbQCmVStjb28scTfHCBBQRvZW7uzuAnK4GkZGRMkdDVLxdvHhRWlaXHX1hZmaGypUrAwCioqLw8uVLmSMiKr5evXqFy5cvAwAqVaoEc3NzmSN6u6SkJGRnZwPQvwQ5EZG+UCegXFxcpKFMKAcTUET0Vs2bN5eWjxw5ImMkRMVbRkYGQkNDAQCurq5wc3OTOaLCU5f358+f4+zZszJHQ1R8nTt3Ds+ePQMANGvWTOZoCobdQoiIdCszMxOPHj0CwHpWGyagiOitvL29peUffvhBLwddJfoQgoODkZGRAQDo3LmzXt716ty5s7S8e/duGSMhKt5++OEHaTl3uSnOODAuEZFuJSYmSsusZ/NiAoqI3qpy5cpSq4ioqCicOHFC3oCIiiEhBNauXSs9Hzx4sIzRvLuePXtKgykHBAQgJSVF5oiIip+UlBQEBAQAAMzNzdGrVy95AyogtoAiItIt1rNvxgQUERXIpEmTpOXZs2eXmKnmid6XAwcO4PTp0wCA2rVro23btjJH9G5sbGwwbNgwADkzfC1dulTmiIiKn2XLlkkzRQ4bNgy2trYyR1QwuVtA8cKIiOj9Yz37ZkxAEVGB9O/fH7Vq1QIAnD17Fps3b5Y5IqLiIzU1VSNJu2DBAr3sfqc2a9YslCpVCgCwZs0ahIeHyxwRUfFx8eJFrF69GkDODEezZs2SOaKCYxc8IiLdYj37ZkxAEVGBmJiYYN26ddLzL774AmFhYTJGRFQ8qFQqjBgxAnfv3gUAtG3bFj4+PjJHVTQVK1aULqpfvXqF/v37SwNqEhmyR48eoV+/fnj16hUAYObMmahUqZK8QRUCu4YQEekW69k3YwKKiAqsQ4cOmDhxIoCcGR4++eQTaQpqIkOkUqkwfvx47N27FwBga2uL7du363XrJ7XZs2ejcePGAICYmBh06dIFT548kTcoIhk9efIEXbt2RUxMDACgUaNG+Oabb2SOqnDUd+YVCgWcnJxkjoaIqORhC6g3YwKKiApl9erVaNWqFQAgOTkZrVq1wsGDB2WOiujDS09PR79+/bBlyxYAgLGxMXbv3q1XrSHeRKlUIigoCGXLlgUAnD9/Hi1atEB0dLTMkRF9eLdu3ULLli2llr/Ozs4ICgqSuqrqC/WdeWdnZ5iYmMgcDRFRycMWUG/GBBQRFYpSqcR//vMfNG3aFEDOHeHOnTtj8uTJbB1BBuPgwYOoX78+9uzZAyAn+RQYGKg3U7EXVIUKFXD48GGppcTVq1fRsGFDrF+/XuqCRFSSvXr1Chs2bMBHH32EK1euAAAcHR1x+PBhVKxYUeboCkelUkkXRrwoIiLSDXULKKVSCXt7e5mjKX6YgCKiQrOzs8PRo0fRo0cPad369etRpUoVzJ07F3fu3JEvOCIdycrKwt69e9G2bVt07twZsbGxAHJmjQsODsbAgQNljlA36tati9DQULi7uwPImRlv8uTJqF27NjZt2sTEM5VIT548webNm1GnTh1MmjQJT58+BQDUrFkToaGh8PDwkDnCwktKSkJ2djYAdgshItIVdQLKxcWlRAzJ8L6x7S0RvRMrKyv8+uuvWLt2Lb755htkZGQgJSUFS5YswZIlS1C/fn20aNECNWvWhJOTE0xNTeUOmahQhBBIT0/H3bt3cfHiRZw8eRKpqaka23h5ecHf3x9VqlSRKcoPo1q1ajh//jy++OILfP/99wCA6OhoTJgwAVOnToWnpyeaNm2KqlWronTp0jA2NpY5YqLCyc7ORkpKCmJiYhAWFobTp0/j5cuXGtv4+vrCz88P1tbWMkVZNLm7hTx79gxBQUEyRkNEVPKoVCpp0ha2NNVOIYQQcgchBzc3N9y/fx9GRkbvdBcoISEBKpXqnfcn/VSUv7t6X1dXV8THx+soQnncvXsX8+fPR2BgoHR3lagkq169OubPn49BgwbByMiwGhOfOXMG33zzDY4fPy53KEQfRJs2bfDtt9/C09NT7lCK5LfffsMnn3widxhERAahT58+TPRrYbAJqFq1auH69etyh0EGyN3dHdeuXZM7DJ2Ij49HQEAA9uzZg/DwcBho9UIllIODAzp37owhQ4agU6dOBt/K5+LFiwgICMC+fftw+/ZtucMheq+qVKmC7t27Y/jw4fjoo4/kDue9CA8PR6NGjeQOg4jIIKxcuRLTp0+XO4xix2ATUL/88gvmzp2L9PT0d9o/IyMD6enpsLa2hrm5+XuOjoqrov7dra2tsXjxYvj4+OgguuIlNTUVkZGRuH37Nh4/fswBi0nvKBQKWFhYwNXVFbVq1UK1atUMrrVTQT148ACXL19GXFwc0tLSoFKp5A6JqFCMjIxgY2ODChUqwMPDo8R2nTh69CjCw8PlDoOIqEQrX748+vTpA6VSKXcoxY7BJqCIiIiIiIiIiOjD4K1cIiIiIiIiIiLSKSagiIiIiIiIiIhIp5iAIiIiIiIiIiIinWICioiIiIiIiIiIdIoJKCIiIiIiIiIi0ikmoIiIiIiIiIiISKeYgCIiIiIiIiIiIp1iAoqIiIiIiIiIiHSKCSgiIiIiIiIiItIpJqCIiIiIiIiIiEinmIAiIiIiIiIiIiKd+n/EZ9jgE+QsIAAAAABJRU5ErkJggg==\n"
        },
        "metadata": {}
       }
      ]
     }
    },
    "a210d032aa73488ebb39ccf45c62a853": {
     "model_module": "@jupyter-widgets/base",
     "model_name": "LayoutModel",
     "model_module_version": "1.2.0",
     "state": {
      "_model_module": "@jupyter-widgets/base",
      "_model_module_version": "1.2.0",
      "_model_name": "LayoutModel",
      "_view_count": null,
      "_view_module": "@jupyter-widgets/base",
      "_view_module_version": "1.2.0",
      "_view_name": "LayoutView",
      "align_content": null,
      "align_items": null,
      "align_self": null,
      "border": null,
      "bottom": null,
      "display": null,
      "flex": null,
      "flex_flow": null,
      "grid_area": null,
      "grid_auto_columns": null,
      "grid_auto_flow": null,
      "grid_auto_rows": null,
      "grid_column": null,
      "grid_gap": null,
      "grid_row": null,
      "grid_template_areas": null,
      "grid_template_columns": null,
      "grid_template_rows": null,
      "height": null,
      "justify_content": null,
      "justify_items": null,
      "left": null,
      "margin": null,
      "max_height": null,
      "max_width": null,
      "min_height": null,
      "min_width": null,
      "object_fit": null,
      "object_position": null,
      "order": null,
      "overflow": null,
      "overflow_x": null,
      "overflow_y": null,
      "padding": null,
      "right": null,
      "top": null,
      "visibility": null,
      "width": null
     }
    },
    "5e78b74cf5fb4c8880ff0f8be6ca2e8b": {
     "model_module": "@jupyter-widgets/base",
     "model_name": "LayoutModel",
     "model_module_version": "1.2.0",
     "state": {
      "_model_module": "@jupyter-widgets/base",
      "_model_module_version": "1.2.0",
      "_model_name": "LayoutModel",
      "_view_count": null,
      "_view_module": "@jupyter-widgets/base",
      "_view_module_version": "1.2.0",
      "_view_name": "LayoutView",
      "align_content": null,
      "align_items": null,
      "align_self": null,
      "border": null,
      "bottom": null,
      "display": null,
      "flex": null,
      "flex_flow": null,
      "grid_area": null,
      "grid_auto_columns": null,
      "grid_auto_flow": null,
      "grid_auto_rows": null,
      "grid_column": null,
      "grid_gap": null,
      "grid_row": null,
      "grid_template_areas": null,
      "grid_template_columns": null,
      "grid_template_rows": null,
      "height": null,
      "justify_content": null,
      "justify_items": null,
      "left": null,
      "margin": null,
      "max_height": null,
      "max_width": null,
      "min_height": null,
      "min_width": null,
      "object_fit": null,
      "object_position": null,
      "order": null,
      "overflow": null,
      "overflow_x": null,
      "overflow_y": null,
      "padding": null,
      "right": null,
      "top": null,
      "visibility": null,
      "width": null
     }
    },
    "b4eafed602714460aa6c10784a7b0b39": {
     "model_module": "@jupyter-widgets/controls",
     "model_name": "ToggleButtonsStyleModel",
     "model_module_version": "1.5.0",
     "state": {
      "_model_module": "@jupyter-widgets/controls",
      "_model_module_version": "1.5.0",
      "_model_name": "ToggleButtonsStyleModel",
      "_view_count": null,
      "_view_module": "@jupyter-widgets/base",
      "_view_module_version": "1.2.0",
      "_view_name": "StyleView",
      "button_width": "",
      "description_width": "",
      "font_weight": ""
     }
    },
    "9126bb466a50421593fd0ca939546ee5": {
     "model_module": "@jupyter-widgets/base",
     "model_name": "LayoutModel",
     "model_module_version": "1.2.0",
     "state": {
      "_model_module": "@jupyter-widgets/base",
      "_model_module_version": "1.2.0",
      "_model_name": "LayoutModel",
      "_view_count": null,
      "_view_module": "@jupyter-widgets/base",
      "_view_module_version": "1.2.0",
      "_view_name": "LayoutView",
      "align_content": null,
      "align_items": null,
      "align_self": null,
      "border": null,
      "bottom": null,
      "display": null,
      "flex": null,
      "flex_flow": null,
      "grid_area": null,
      "grid_auto_columns": null,
      "grid_auto_flow": null,
      "grid_auto_rows": null,
      "grid_column": null,
      "grid_gap": null,
      "grid_row": null,
      "grid_template_areas": null,
      "grid_template_columns": null,
      "grid_template_rows": null,
      "height": null,
      "justify_content": null,
      "justify_items": null,
      "left": null,
      "margin": null,
      "max_height": null,
      "max_width": null,
      "min_height": null,
      "min_width": null,
      "object_fit": null,
      "object_position": null,
      "order": null,
      "overflow": null,
      "overflow_x": null,
      "overflow_y": null,
      "padding": null,
      "right": null,
      "top": null,
      "visibility": null,
      "width": null
     }
    },
    "c292dd5b982c4f28b654f53d9e602553": {
     "model_module": "@jupyter-widgets/controls",
     "model_name": "HBoxModel",
     "model_module_version": "1.5.0",
     "state": {
      "_dom_classes": [],
      "_model_module": "@jupyter-widgets/controls",
      "_model_module_version": "1.5.0",
      "_model_name": "HBoxModel",
      "_view_count": null,
      "_view_module": "@jupyter-widgets/controls",
      "_view_module_version": "1.5.0",
      "_view_name": "HBoxView",
      "box_style": "",
      "children": [
       "IPY_MODEL_e80f70cc29ad469eaa0187c802c624b8",
       "IPY_MODEL_350473600dbb456a9f68a1af35e466c0",
       "IPY_MODEL_7df655cfa39f4dc88805b919414b050d"
      ],
      "layout": "IPY_MODEL_fac1ff1b387a4d5ea37064e0933f547c"
     }
    },
    "e80f70cc29ad469eaa0187c802c624b8": {
     "model_module": "@jupyter-widgets/controls",
     "model_name": "HTMLModel",
     "model_module_version": "1.5.0",
     "state": {
      "_dom_classes": [],
      "_model_module": "@jupyter-widgets/controls",
      "_model_module_version": "1.5.0",
      "_model_name": "HTMLModel",
      "_view_count": null,
      "_view_module": "@jupyter-widgets/controls",
      "_view_module_version": "1.5.0",
      "_view_name": "HTMLView",
      "description": "",
      "description_tooltip": null,
      "layout": "IPY_MODEL_35463b4d6fa74d53912594810736ad07",
      "placeholder": "​",
      "style": "IPY_MODEL_53c1a4ae75f34e5483fb775b50f6ddf2",
      "value": "Processing: 100%"
     }
    },
    "350473600dbb456a9f68a1af35e466c0": {
     "model_module": "@jupyter-widgets/controls",
     "model_name": "FloatProgressModel",
     "model_module_version": "1.5.0",
     "state": {
      "_dom_classes": [],
      "_model_module": "@jupyter-widgets/controls",
      "_model_module_version": "1.5.0",
      "_model_name": "FloatProgressModel",
      "_view_count": null,
      "_view_module": "@jupyter-widgets/controls",
      "_view_module_version": "1.5.0",
      "_view_name": "ProgressView",
      "bar_style": "",
      "description": "",
      "description_tooltip": null,
      "layout": "IPY_MODEL_c1af8dac94e6421fa31b2f9b458e26e8",
      "max": 81,
      "min": 0,
      "orientation": "horizontal",
      "style": "IPY_MODEL_e4baf4223327431f83db11b2df9abdb3",
      "value": 81
     }
    },
    "7df655cfa39f4dc88805b919414b050d": {
     "model_module": "@jupyter-widgets/controls",
     "model_name": "HTMLModel",
     "model_module_version": "1.5.0",
     "state": {
      "_dom_classes": [],
      "_model_module": "@jupyter-widgets/controls",
      "_model_module_version": "1.5.0",
      "_model_name": "HTMLModel",
      "_view_count": null,
      "_view_module": "@jupyter-widgets/controls",
      "_view_module_version": "1.5.0",
      "_view_name": "HTMLView",
      "description": "",
      "description_tooltip": null,
      "layout": "IPY_MODEL_df6513020be2499ea327a0de5143d05c",
      "placeholder": "​",
      "style": "IPY_MODEL_a667cf79636d4529a76cd862df24092f",
      "value": " 81/81 [00:50&lt;00:00,  1.91it/s]"
     }
    },
    "fac1ff1b387a4d5ea37064e0933f547c": {
     "model_module": "@jupyter-widgets/base",
     "model_name": "LayoutModel",
     "model_module_version": "1.2.0",
     "state": {
      "_model_module": "@jupyter-widgets/base",
      "_model_module_version": "1.2.0",
      "_model_name": "LayoutModel",
      "_view_count": null,
      "_view_module": "@jupyter-widgets/base",
      "_view_module_version": "1.2.0",
      "_view_name": "LayoutView",
      "align_content": null,
      "align_items": null,
      "align_self": null,
      "border": null,
      "bottom": null,
      "display": null,
      "flex": null,
      "flex_flow": null,
      "grid_area": null,
      "grid_auto_columns": null,
      "grid_auto_flow": null,
      "grid_auto_rows": null,
      "grid_column": null,
      "grid_gap": null,
      "grid_row": null,
      "grid_template_areas": null,
      "grid_template_columns": null,
      "grid_template_rows": null,
      "height": null,
      "justify_content": null,
      "justify_items": null,
      "left": null,
      "margin": null,
      "max_height": null,
      "max_width": null,
      "min_height": null,
      "min_width": null,
      "object_fit": null,
      "object_position": null,
      "order": null,
      "overflow": null,
      "overflow_x": null,
      "overflow_y": null,
      "padding": null,
      "right": null,
      "top": null,
      "visibility": "hidden",
      "width": null
     }
    },
    "35463b4d6fa74d53912594810736ad07": {
     "model_module": "@jupyter-widgets/base",
     "model_name": "LayoutModel",
     "model_module_version": "1.2.0",
     "state": {
      "_model_module": "@jupyter-widgets/base",
      "_model_module_version": "1.2.0",
      "_model_name": "LayoutModel",
      "_view_count": null,
      "_view_module": "@jupyter-widgets/base",
      "_view_module_version": "1.2.0",
      "_view_name": "LayoutView",
      "align_content": null,
      "align_items": null,
      "align_self": null,
      "border": null,
      "bottom": null,
      "display": null,
      "flex": null,
      "flex_flow": null,
      "grid_area": null,
      "grid_auto_columns": null,
      "grid_auto_flow": null,
      "grid_auto_rows": null,
      "grid_column": null,
      "grid_gap": null,
      "grid_row": null,
      "grid_template_areas": null,
      "grid_template_columns": null,
      "grid_template_rows": null,
      "height": null,
      "justify_content": null,
      "justify_items": null,
      "left": null,
      "margin": null,
      "max_height": null,
      "max_width": null,
      "min_height": null,
      "min_width": null,
      "object_fit": null,
      "object_position": null,
      "order": null,
      "overflow": null,
      "overflow_x": null,
      "overflow_y": null,
      "padding": null,
      "right": null,
      "top": null,
      "visibility": null,
      "width": null
     }
    },
    "53c1a4ae75f34e5483fb775b50f6ddf2": {
     "model_module": "@jupyter-widgets/controls",
     "model_name": "DescriptionStyleModel",
     "model_module_version": "1.5.0",
     "state": {
      "_model_module": "@jupyter-widgets/controls",
      "_model_module_version": "1.5.0",
      "_model_name": "DescriptionStyleModel",
      "_view_count": null,
      "_view_module": "@jupyter-widgets/base",
      "_view_module_version": "1.2.0",
      "_view_name": "StyleView",
      "description_width": ""
     }
    },
    "c1af8dac94e6421fa31b2f9b458e26e8": {
     "model_module": "@jupyter-widgets/base",
     "model_name": "LayoutModel",
     "model_module_version": "1.2.0",
     "state": {
      "_model_module": "@jupyter-widgets/base",
      "_model_module_version": "1.2.0",
      "_model_name": "LayoutModel",
      "_view_count": null,
      "_view_module": "@jupyter-widgets/base",
      "_view_module_version": "1.2.0",
      "_view_name": "LayoutView",
      "align_content": null,
      "align_items": null,
      "align_self": null,
      "border": null,
      "bottom": null,
      "display": null,
      "flex": null,
      "flex_flow": null,
      "grid_area": null,
      "grid_auto_columns": null,
      "grid_auto_flow": null,
      "grid_auto_rows": null,
      "grid_column": null,
      "grid_gap": null,
      "grid_row": null,
      "grid_template_areas": null,
      "grid_template_columns": null,
      "grid_template_rows": null,
      "height": null,
      "justify_content": null,
      "justify_items": null,
      "left": null,
      "margin": null,
      "max_height": null,
      "max_width": null,
      "min_height": null,
      "min_width": null,
      "object_fit": null,
      "object_position": null,
      "order": null,
      "overflow": null,
      "overflow_x": null,
      "overflow_y": null,
      "padding": null,
      "right": null,
      "top": null,
      "visibility": null,
      "width": null
     }
    },
    "e4baf4223327431f83db11b2df9abdb3": {
     "model_module": "@jupyter-widgets/controls",
     "model_name": "ProgressStyleModel",
     "model_module_version": "1.5.0",
     "state": {
      "_model_module": "@jupyter-widgets/controls",
      "_model_module_version": "1.5.0",
      "_model_name": "ProgressStyleModel",
      "_view_count": null,
      "_view_module": "@jupyter-widgets/base",
      "_view_module_version": "1.2.0",
      "_view_name": "StyleView",
      "bar_color": null,
      "description_width": ""
     }
    },
    "df6513020be2499ea327a0de5143d05c": {
     "model_module": "@jupyter-widgets/base",
     "model_name": "LayoutModel",
     "model_module_version": "1.2.0",
     "state": {
      "_model_module": "@jupyter-widgets/base",
      "_model_module_version": "1.2.0",
      "_model_name": "LayoutModel",
      "_view_count": null,
      "_view_module": "@jupyter-widgets/base",
      "_view_module_version": "1.2.0",
      "_view_name": "LayoutView",
      "align_content": null,
      "align_items": null,
      "align_self": null,
      "border": null,
      "bottom": null,
      "display": null,
      "flex": null,
      "flex_flow": null,
      "grid_area": null,
      "grid_auto_columns": null,
      "grid_auto_flow": null,
      "grid_auto_rows": null,
      "grid_column": null,
      "grid_gap": null,
      "grid_row": null,
      "grid_template_areas": null,
      "grid_template_columns": null,
      "grid_template_rows": null,
      "height": null,
      "justify_content": null,
      "justify_items": null,
      "left": null,
      "margin": null,
      "max_height": null,
      "max_width": null,
      "min_height": null,
      "min_width": null,
      "object_fit": null,
      "object_position": null,
      "order": null,
      "overflow": null,
      "overflow_x": null,
      "overflow_y": null,
      "padding": null,
      "right": null,
      "top": null,
      "visibility": null,
      "width": null
     }
    },
    "a667cf79636d4529a76cd862df24092f": {
     "model_module": "@jupyter-widgets/controls",
     "model_name": "DescriptionStyleModel",
     "model_module_version": "1.5.0",
     "state": {
      "_model_module": "@jupyter-widgets/controls",
      "_model_module_version": "1.5.0",
      "_model_name": "DescriptionStyleModel",
      "_view_count": null,
      "_view_module": "@jupyter-widgets/base",
      "_view_module_version": "1.2.0",
      "_view_name": "StyleView",
      "description_width": ""
     }
    },
    "9f78624655b8400b844b63dc67d56b31": {
     "model_module": "@jupyter-widgets/controls",
     "model_name": "VBoxModel",
     "model_module_version": "1.5.0",
     "state": {
      "_dom_classes": [
       "widget-interact"
      ],
      "_model_module": "@jupyter-widgets/controls",
      "_model_module_version": "1.5.0",
      "_model_name": "VBoxModel",
      "_view_count": null,
      "_view_module": "@jupyter-widgets/controls",
      "_view_module_version": "1.5.0",
      "_view_name": "VBoxView",
      "box_style": "",
      "children": [
       "IPY_MODEL_b9bba1ff440f41c5abb1b2efad3ce8a0",
       "IPY_MODEL_59b4f31f47bd4d6792390a9b9b5544a4"
      ],
      "layout": "IPY_MODEL_c75dd61a009e4042b41d0a19a8990982"
     }
    },
    "b9bba1ff440f41c5abb1b2efad3ce8a0": {
     "model_module": "@jupyter-widgets/controls",
     "model_name": "ToggleButtonsModel",
     "model_module_version": "1.5.0",
     "state": {
      "_dom_classes": [],
      "_model_module": "@jupyter-widgets/controls",
      "_model_module_version": "1.5.0",
      "_model_name": "ToggleButtonsModel",
      "_options_labels": [
       "Pipeline Plot",
       "Hyperparameters",
       "Residuals",
       "Prediction Error",
       "Cooks Distance",
       "Feature Selection",
       "Learning Curve",
       "Manifold Learning",
       "Validation Curve",
       "Feature Importance",
       "Feature Importance (All)",
       "Decision Tree",
       "Interactive Residuals"
      ],
      "_view_count": null,
      "_view_module": "@jupyter-widgets/controls",
      "_view_module_version": "1.5.0",
      "_view_name": "ToggleButtonsView",
      "button_style": "",
      "description": "Plot Type:",
      "description_tooltip": null,
      "disabled": false,
      "icons": [
       ""
      ],
      "index": 6,
      "layout": "IPY_MODEL_147f8b07836746c8b8d2f6dc59335210",
      "style": "IPY_MODEL_b13ada636f884fbe93e96c031ed980a2",
      "tooltips": []
     }
    },
    "59b4f31f47bd4d6792390a9b9b5544a4": {
     "model_module": "@jupyter-widgets/output",
     "model_name": "OutputModel",
     "model_module_version": "1.0.0",
     "state": {
      "_dom_classes": [],
      "_model_module": "@jupyter-widgets/output",
      "_model_module_version": "1.0.0",
      "_model_name": "OutputModel",
      "_view_count": null,
      "_view_module": "@jupyter-widgets/output",
      "_view_module_version": "1.0.0",
      "_view_name": "OutputView",
      "layout": "IPY_MODEL_93ba4f865c5b4eb7918452f0762aa89c",
      "msg_id": "",
      "outputs": [
       {
        "output_type": "display_data",
        "data": {
         "text/plain": "<Figure size 800x550 with 1 Axes>",
         "image/png": "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\n"
        },
        "metadata": {}
       }
      ]
     }
    },
    "c75dd61a009e4042b41d0a19a8990982": {
     "model_module": "@jupyter-widgets/base",
     "model_name": "LayoutModel",
     "model_module_version": "1.2.0",
     "state": {
      "_model_module": "@jupyter-widgets/base",
      "_model_module_version": "1.2.0",
      "_model_name": "LayoutModel",
      "_view_count": null,
      "_view_module": "@jupyter-widgets/base",
      "_view_module_version": "1.2.0",
      "_view_name": "LayoutView",
      "align_content": null,
      "align_items": null,
      "align_self": null,
      "border": null,
      "bottom": null,
      "display": null,
      "flex": null,
      "flex_flow": null,
      "grid_area": null,
      "grid_auto_columns": null,
      "grid_auto_flow": null,
      "grid_auto_rows": null,
      "grid_column": null,
      "grid_gap": null,
      "grid_row": null,
      "grid_template_areas": null,
      "grid_template_columns": null,
      "grid_template_rows": null,
      "height": null,
      "justify_content": null,
      "justify_items": null,
      "left": null,
      "margin": null,
      "max_height": null,
      "max_width": null,
      "min_height": null,
      "min_width": null,
      "object_fit": null,
      "object_position": null,
      "order": null,
      "overflow": null,
      "overflow_x": null,
      "overflow_y": null,
      "padding": null,
      "right": null,
      "top": null,
      "visibility": null,
      "width": null
     }
    },
    "147f8b07836746c8b8d2f6dc59335210": {
     "model_module": "@jupyter-widgets/base",
     "model_name": "LayoutModel",
     "model_module_version": "1.2.0",
     "state": {
      "_model_module": "@jupyter-widgets/base",
      "_model_module_version": "1.2.0",
      "_model_name": "LayoutModel",
      "_view_count": null,
      "_view_module": "@jupyter-widgets/base",
      "_view_module_version": "1.2.0",
      "_view_name": "LayoutView",
      "align_content": null,
      "align_items": null,
      "align_self": null,
      "border": null,
      "bottom": null,
      "display": null,
      "flex": null,
      "flex_flow": null,
      "grid_area": null,
      "grid_auto_columns": null,
      "grid_auto_flow": null,
      "grid_auto_rows": null,
      "grid_column": null,
      "grid_gap": null,
      "grid_row": null,
      "grid_template_areas": null,
      "grid_template_columns": null,
      "grid_template_rows": null,
      "height": null,
      "justify_content": null,
      "justify_items": null,
      "left": null,
      "margin": null,
      "max_height": null,
      "max_width": null,
      "min_height": null,
      "min_width": null,
      "object_fit": null,
      "object_position": null,
      "order": null,
      "overflow": null,
      "overflow_x": null,
      "overflow_y": null,
      "padding": null,
      "right": null,
      "top": null,
      "visibility": null,
      "width": null
     }
    },
    "b13ada636f884fbe93e96c031ed980a2": {
     "model_module": "@jupyter-widgets/controls",
     "model_name": "ToggleButtonsStyleModel",
     "model_module_version": "1.5.0",
     "state": {
      "_model_module": "@jupyter-widgets/controls",
      "_model_module_version": "1.5.0",
      "_model_name": "ToggleButtonsStyleModel",
      "_view_count": null,
      "_view_module": "@jupyter-widgets/base",
      "_view_module_version": "1.2.0",
      "_view_name": "StyleView",
      "button_width": "",
      "description_width": "",
      "font_weight": ""
     }
    },
    "93ba4f865c5b4eb7918452f0762aa89c": {
     "model_module": "@jupyter-widgets/base",
     "model_name": "LayoutModel",
     "model_module_version": "1.2.0",
     "state": {
      "_model_module": "@jupyter-widgets/base",
      "_model_module_version": "1.2.0",
      "_model_name": "LayoutModel",
      "_view_count": null,
      "_view_module": "@jupyter-widgets/base",
      "_view_module_version": "1.2.0",
      "_view_name": "LayoutView",
      "align_content": null,
      "align_items": null,
      "align_self": null,
      "border": null,
      "bottom": null,
      "display": null,
      "flex": null,
      "flex_flow": null,
      "grid_area": null,
      "grid_auto_columns": null,
      "grid_auto_flow": null,
      "grid_auto_rows": null,
      "grid_column": null,
      "grid_gap": null,
      "grid_row": null,
      "grid_template_areas": null,
      "grid_template_columns": null,
      "grid_template_rows": null,
      "height": null,
      "justify_content": null,
      "justify_items": null,
      "left": null,
      "margin": null,
      "max_height": null,
      "max_width": null,
      "min_height": null,
      "min_width": null,
      "object_fit": null,
      "object_position": null,
      "order": null,
      "overflow": null,
      "overflow_x": null,
      "overflow_y": null,
      "padding": null,
      "right": null,
      "top": null,
      "visibility": null,
      "width": null
     }
    }
   }
  }
 },
 "cells": [
  {
   "cell_type": "code",
   "source": [
    "from pycaret.utils import version\n",
    "\n",
    "version()"
   ],
   "metadata": {
    "colab": {
     "base_uri": "https://localhost:8080/",
     "height": 1000
    },
    "id": "WbJhVVSJ_2ot",
    "outputId": "a8fa589e-2179-41eb-e00e-91f8a2d300ff",
    "ExecuteTime": {
     "end_time": "2023-10-22T07:38:13.987257Z",
     "start_time": "2023-10-22T07:38:13.850437Z"
    }
   },
   "execution_count": 1,
   "outputs": [
    {
     "data": {
      "text/plain": "'3.1.0'"
     },
     "execution_count": 1,
     "metadata": {},
     "output_type": "execute_result"
    }
   ]
  },
  {
   "cell_type": "markdown",
   "source": [
    "# Exploration"
   ],
   "metadata": {
    "collapsed": false
   }
  },
  {
   "cell_type": "code",
   "execution_count": 2,
   "metadata": {
    "colab": {
     "base_uri": "https://localhost:8080/"
    },
    "id": "gtXKnV05_EyA",
    "outputId": "aba0436a-32d9-467e-c940-73212e163766",
    "ExecuteTime": {
     "end_time": "2023-10-22T07:38:18.423918Z",
     "start_time": "2023-10-22T07:38:15.506913Z"
    }
   },
   "outputs": [
    {
     "name": "stdout",
     "output_type": "stream",
     "text": [
      "(284807, 31)\n",
      "Number of frauds: 492\n",
      "Percent of frauds: 0.173%\n"
     ]
    }
   ],
   "source": [
    "import pandas as pd\n",
    "\n",
    "data = pd.read_csv('./data/creditcard.csv')\n",
    "\n",
    "print(data.shape)\n",
    "num_rows = len(data)\n",
    "num_frauds = len(data[data[\"Class\"] == 1])\n",
    "print(f\"Number of frauds: {num_frauds}\")\n",
    "print(f\"Percent of frauds: {round(num_frauds / num_rows * 100, 3)}%\")"
   ]
  },
  {
   "cell_type": "code",
   "source": [
    "data.head()"
   ],
   "metadata": {
    "colab": {
     "base_uri": "https://localhost:8080/",
     "height": 256
    },
    "id": "kfpyGshtAeof",
    "outputId": "162fcc8f-f3eb-43ed-8ca4-ea04e416d739",
    "ExecuteTime": {
     "end_time": "2023-10-22T07:38:19.299934Z",
     "start_time": "2023-10-22T07:38:19.271227Z"
    }
   },
   "execution_count": 3,
   "outputs": [
    {
     "data": {
      "text/plain": "   Time        V1        V2        V3        V4        V5        V6        V7  \\\n0   0.0 -1.359807 -0.072781  2.536347  1.378155 -0.338321  0.462388  0.239599   \n1   0.0  1.191857  0.266151  0.166480  0.448154  0.060018 -0.082361 -0.078803   \n2   1.0 -1.358354 -1.340163  1.773209  0.379780 -0.503198  1.800499  0.791461   \n3   1.0 -0.966272 -0.185226  1.792993 -0.863291 -0.010309  1.247203  0.237609   \n4   2.0 -1.158233  0.877737  1.548718  0.403034 -0.407193  0.095921  0.592941   \n\n         V8        V9  ...       V21       V22       V23       V24       V25  \\\n0  0.098698  0.363787  ... -0.018307  0.277838 -0.110474  0.066928  0.128539   \n1  0.085102 -0.255425  ... -0.225775 -0.638672  0.101288 -0.339846  0.167170   \n2  0.247676 -1.514654  ...  0.247998  0.771679  0.909412 -0.689281 -0.327642   \n3  0.377436 -1.387024  ... -0.108300  0.005274 -0.190321 -1.175575  0.647376   \n4 -0.270533  0.817739  ... -0.009431  0.798278 -0.137458  0.141267 -0.206010   \n\n        V26       V27       V28  Amount  Class  \n0 -0.189115  0.133558 -0.021053  149.62      0  \n1  0.125895 -0.008983  0.014724    2.69      0  \n2 -0.139097 -0.055353 -0.059752  378.66      0  \n3 -0.221929  0.062723  0.061458  123.50      0  \n4  0.502292  0.219422  0.215153   69.99      0  \n\n[5 rows x 31 columns]",
      "text/html": "<div>\n<style scoped>\n    .dataframe tbody tr th:only-of-type {\n        vertical-align: middle;\n    }\n\n    .dataframe tbody tr th {\n        vertical-align: top;\n    }\n\n    .dataframe thead th {\n        text-align: right;\n    }\n</style>\n<table border=\"1\" class=\"dataframe\">\n  <thead>\n    <tr style=\"text-align: right;\">\n      <th></th>\n      <th>Time</th>\n      <th>V1</th>\n      <th>V2</th>\n      <th>V3</th>\n      <th>V4</th>\n      <th>V5</th>\n      <th>V6</th>\n      <th>V7</th>\n      <th>V8</th>\n      <th>V9</th>\n      <th>...</th>\n      <th>V21</th>\n      <th>V22</th>\n      <th>V23</th>\n      <th>V24</th>\n      <th>V25</th>\n      <th>V26</th>\n      <th>V27</th>\n      <th>V28</th>\n      <th>Amount</th>\n      <th>Class</th>\n    </tr>\n  </thead>\n  <tbody>\n    <tr>\n      <th>0</th>\n      <td>0.0</td>\n      <td>-1.359807</td>\n      <td>-0.072781</td>\n      <td>2.536347</td>\n      <td>1.378155</td>\n      <td>-0.338321</td>\n      <td>0.462388</td>\n      <td>0.239599</td>\n      <td>0.098698</td>\n      <td>0.363787</td>\n      <td>...</td>\n      <td>-0.018307</td>\n      <td>0.277838</td>\n      <td>-0.110474</td>\n      <td>0.066928</td>\n      <td>0.128539</td>\n      <td>-0.189115</td>\n      <td>0.133558</td>\n      <td>-0.021053</td>\n      <td>149.62</td>\n      <td>0</td>\n    </tr>\n    <tr>\n      <th>1</th>\n      <td>0.0</td>\n      <td>1.191857</td>\n      <td>0.266151</td>\n      <td>0.166480</td>\n      <td>0.448154</td>\n      <td>0.060018</td>\n      <td>-0.082361</td>\n      <td>-0.078803</td>\n      <td>0.085102</td>\n      <td>-0.255425</td>\n      <td>...</td>\n      <td>-0.225775</td>\n      <td>-0.638672</td>\n      <td>0.101288</td>\n      <td>-0.339846</td>\n      <td>0.167170</td>\n      <td>0.125895</td>\n      <td>-0.008983</td>\n      <td>0.014724</td>\n      <td>2.69</td>\n      <td>0</td>\n    </tr>\n    <tr>\n      <th>2</th>\n      <td>1.0</td>\n      <td>-1.358354</td>\n      <td>-1.340163</td>\n      <td>1.773209</td>\n      <td>0.379780</td>\n      <td>-0.503198</td>\n      <td>1.800499</td>\n      <td>0.791461</td>\n      <td>0.247676</td>\n      <td>-1.514654</td>\n      <td>...</td>\n      <td>0.247998</td>\n      <td>0.771679</td>\n      <td>0.909412</td>\n      <td>-0.689281</td>\n      <td>-0.327642</td>\n      <td>-0.139097</td>\n      <td>-0.055353</td>\n      <td>-0.059752</td>\n      <td>378.66</td>\n      <td>0</td>\n    </tr>\n    <tr>\n      <th>3</th>\n      <td>1.0</td>\n      <td>-0.966272</td>\n      <td>-0.185226</td>\n      <td>1.792993</td>\n      <td>-0.863291</td>\n      <td>-0.010309</td>\n      <td>1.247203</td>\n      <td>0.237609</td>\n      <td>0.377436</td>\n      <td>-1.387024</td>\n      <td>...</td>\n      <td>-0.108300</td>\n      <td>0.005274</td>\n      <td>-0.190321</td>\n      <td>-1.175575</td>\n      <td>0.647376</td>\n      <td>-0.221929</td>\n      <td>0.062723</td>\n      <td>0.061458</td>\n      <td>123.50</td>\n      <td>0</td>\n    </tr>\n    <tr>\n      <th>4</th>\n      <td>2.0</td>\n      <td>-1.158233</td>\n      <td>0.877737</td>\n      <td>1.548718</td>\n      <td>0.403034</td>\n      <td>-0.407193</td>\n      <td>0.095921</td>\n      <td>0.592941</td>\n      <td>-0.270533</td>\n      <td>0.817739</td>\n      <td>...</td>\n      <td>-0.009431</td>\n      <td>0.798278</td>\n      <td>-0.137458</td>\n      <td>0.141267</td>\n      <td>-0.206010</td>\n      <td>0.502292</td>\n      <td>0.219422</td>\n      <td>0.215153</td>\n      <td>69.99</td>\n      <td>0</td>\n    </tr>\n  </tbody>\n</table>\n<p>5 rows × 31 columns</p>\n</div>"
     },
     "execution_count": 3,
     "metadata": {},
     "output_type": "execute_result"
    }
   ]
  },
  {
   "cell_type": "code",
   "source": [
    "data.info()"
   ],
   "metadata": {
    "id": "HBwwXrPGfPZf",
    "outputId": "97ee55e7-0d3d-40c3-b91c-5264af750039",
    "colab": {
     "base_uri": "https://localhost:8080/"
    },
    "ExecuteTime": {
     "end_time": "2023-10-22T07:38:20.932770Z",
     "start_time": "2023-10-22T07:38:20.888737Z"
    }
   },
   "execution_count": 4,
   "outputs": [
    {
     "name": "stdout",
     "output_type": "stream",
     "text": [
      "<class 'pandas.core.frame.DataFrame'>\n",
      "RangeIndex: 284807 entries, 0 to 284806\n",
      "Data columns (total 31 columns):\n",
      " #   Column  Non-Null Count   Dtype  \n",
      "---  ------  --------------   -----  \n",
      " 0   Time    284807 non-null  float64\n",
      " 1   V1      284807 non-null  float64\n",
      " 2   V2      284807 non-null  float64\n",
      " 3   V3      284807 non-null  float64\n",
      " 4   V4      284807 non-null  float64\n",
      " 5   V5      284807 non-null  float64\n",
      " 6   V6      284807 non-null  float64\n",
      " 7   V7      284807 non-null  float64\n",
      " 8   V8      284807 non-null  float64\n",
      " 9   V9      284807 non-null  float64\n",
      " 10  V10     284807 non-null  float64\n",
      " 11  V11     284807 non-null  float64\n",
      " 12  V12     284807 non-null  float64\n",
      " 13  V13     284807 non-null  float64\n",
      " 14  V14     284807 non-null  float64\n",
      " 15  V15     284807 non-null  float64\n",
      " 16  V16     284807 non-null  float64\n",
      " 17  V17     284807 non-null  float64\n",
      " 18  V18     284807 non-null  float64\n",
      " 19  V19     284807 non-null  float64\n",
      " 20  V20     284807 non-null  float64\n",
      " 21  V21     284807 non-null  float64\n",
      " 22  V22     284807 non-null  float64\n",
      " 23  V23     284807 non-null  float64\n",
      " 24  V24     284807 non-null  float64\n",
      " 25  V25     284807 non-null  float64\n",
      " 26  V26     284807 non-null  float64\n",
      " 27  V27     284807 non-null  float64\n",
      " 28  V28     284807 non-null  float64\n",
      " 29  Amount  284807 non-null  float64\n",
      " 30  Class   284807 non-null  int64  \n",
      "dtypes: float64(30), int64(1)\n",
      "memory usage: 67.4 MB\n"
     ]
    }
   ]
  },
  {
   "cell_type": "code",
   "source": [
    "data.describe()"
   ],
   "metadata": {
    "id": "SRVQ1z9RfbH9",
    "outputId": "3b0ea253-5e63-4950-ceb2-6bb13075b884",
    "colab": {
     "base_uri": "https://localhost:8080/",
     "height": 350
    },
    "ExecuteTime": {
     "end_time": "2023-10-22T07:38:21.912851Z",
     "start_time": "2023-10-22T07:38:21.426058Z"
    }
   },
   "execution_count": 5,
   "outputs": [
    {
     "data": {
      "text/plain": "                Time            V1            V2            V3            V4  \\\ncount  284807.000000  2.848070e+05  2.848070e+05  2.848070e+05  2.848070e+05   \nmean    94813.859575  1.168375e-15  3.416908e-16 -1.379537e-15  2.074095e-15   \nstd     47488.145955  1.958696e+00  1.651309e+00  1.516255e+00  1.415869e+00   \nmin         0.000000 -5.640751e+01 -7.271573e+01 -4.832559e+01 -5.683171e+00   \n25%     54201.500000 -9.203734e-01 -5.985499e-01 -8.903648e-01 -8.486401e-01   \n50%     84692.000000  1.810880e-02  6.548556e-02  1.798463e-01 -1.984653e-02   \n75%    139320.500000  1.315642e+00  8.037239e-01  1.027196e+00  7.433413e-01   \nmax    172792.000000  2.454930e+00  2.205773e+01  9.382558e+00  1.687534e+01   \n\n                 V5            V6            V7            V8            V9  \\\ncount  2.848070e+05  2.848070e+05  2.848070e+05  2.848070e+05  2.848070e+05   \nmean   9.604066e-16  1.487313e-15 -5.556467e-16  1.213481e-16 -2.406331e-15   \nstd    1.380247e+00  1.332271e+00  1.237094e+00  1.194353e+00  1.098632e+00   \nmin   -1.137433e+02 -2.616051e+01 -4.355724e+01 -7.321672e+01 -1.343407e+01   \n25%   -6.915971e-01 -7.682956e-01 -5.540759e-01 -2.086297e-01 -6.430976e-01   \n50%   -5.433583e-02 -2.741871e-01  4.010308e-02  2.235804e-02 -5.142873e-02   \n75%    6.119264e-01  3.985649e-01  5.704361e-01  3.273459e-01  5.971390e-01   \nmax    3.480167e+01  7.330163e+01  1.205895e+02  2.000721e+01  1.559499e+01   \n\n       ...           V21           V22           V23           V24  \\\ncount  ...  2.848070e+05  2.848070e+05  2.848070e+05  2.848070e+05   \nmean   ...  1.654067e-16 -3.568593e-16  2.578648e-16  4.473266e-15   \nstd    ...  7.345240e-01  7.257016e-01  6.244603e-01  6.056471e-01   \nmin    ... -3.483038e+01 -1.093314e+01 -4.480774e+01 -2.836627e+00   \n25%    ... -2.283949e-01 -5.423504e-01 -1.618463e-01 -3.545861e-01   \n50%    ... -2.945017e-02  6.781943e-03 -1.119293e-02  4.097606e-02   \n75%    ...  1.863772e-01  5.285536e-01  1.476421e-01  4.395266e-01   \nmax    ...  2.720284e+01  1.050309e+01  2.252841e+01  4.584549e+00   \n\n                V25           V26           V27           V28         Amount  \\\ncount  2.848070e+05  2.848070e+05  2.848070e+05  2.848070e+05  284807.000000   \nmean   5.340915e-16  1.683437e-15 -3.660091e-16 -1.227390e-16      88.349619   \nstd    5.212781e-01  4.822270e-01  4.036325e-01  3.300833e-01     250.120109   \nmin   -1.029540e+01 -2.604551e+00 -2.256568e+01 -1.543008e+01       0.000000   \n25%   -3.171451e-01 -3.269839e-01 -7.083953e-02 -5.295979e-02       5.600000   \n50%    1.659350e-02 -5.213911e-02  1.342146e-03  1.124383e-02      22.000000   \n75%    3.507156e-01  2.409522e-01  9.104512e-02  7.827995e-02      77.165000   \nmax    7.519589e+00  3.517346e+00  3.161220e+01  3.384781e+01   25691.160000   \n\n               Class  \ncount  284807.000000  \nmean        0.001727  \nstd         0.041527  \nmin         0.000000  \n25%         0.000000  \n50%         0.000000  \n75%         0.000000  \nmax         1.000000  \n\n[8 rows x 31 columns]",
      "text/html": "<div>\n<style scoped>\n    .dataframe tbody tr th:only-of-type {\n        vertical-align: middle;\n    }\n\n    .dataframe tbody tr th {\n        vertical-align: top;\n    }\n\n    .dataframe thead th {\n        text-align: right;\n    }\n</style>\n<table border=\"1\" class=\"dataframe\">\n  <thead>\n    <tr style=\"text-align: right;\">\n      <th></th>\n      <th>Time</th>\n      <th>V1</th>\n      <th>V2</th>\n      <th>V3</th>\n      <th>V4</th>\n      <th>V5</th>\n      <th>V6</th>\n      <th>V7</th>\n      <th>V8</th>\n      <th>V9</th>\n      <th>...</th>\n      <th>V21</th>\n      <th>V22</th>\n      <th>V23</th>\n      <th>V24</th>\n      <th>V25</th>\n      <th>V26</th>\n      <th>V27</th>\n      <th>V28</th>\n      <th>Amount</th>\n      <th>Class</th>\n    </tr>\n  </thead>\n  <tbody>\n    <tr>\n      <th>count</th>\n      <td>284807.000000</td>\n      <td>2.848070e+05</td>\n      <td>2.848070e+05</td>\n      <td>2.848070e+05</td>\n      <td>2.848070e+05</td>\n      <td>2.848070e+05</td>\n      <td>2.848070e+05</td>\n      <td>2.848070e+05</td>\n      <td>2.848070e+05</td>\n      <td>2.848070e+05</td>\n      <td>...</td>\n      <td>2.848070e+05</td>\n      <td>2.848070e+05</td>\n      <td>2.848070e+05</td>\n      <td>2.848070e+05</td>\n      <td>2.848070e+05</td>\n      <td>2.848070e+05</td>\n      <td>2.848070e+05</td>\n      <td>2.848070e+05</td>\n      <td>284807.000000</td>\n      <td>284807.000000</td>\n    </tr>\n    <tr>\n      <th>mean</th>\n      <td>94813.859575</td>\n      <td>1.168375e-15</td>\n      <td>3.416908e-16</td>\n      <td>-1.379537e-15</td>\n      <td>2.074095e-15</td>\n      <td>9.604066e-16</td>\n      <td>1.487313e-15</td>\n      <td>-5.556467e-16</td>\n      <td>1.213481e-16</td>\n      <td>-2.406331e-15</td>\n      <td>...</td>\n      <td>1.654067e-16</td>\n      <td>-3.568593e-16</td>\n      <td>2.578648e-16</td>\n      <td>4.473266e-15</td>\n      <td>5.340915e-16</td>\n      <td>1.683437e-15</td>\n      <td>-3.660091e-16</td>\n      <td>-1.227390e-16</td>\n      <td>88.349619</td>\n      <td>0.001727</td>\n    </tr>\n    <tr>\n      <th>std</th>\n      <td>47488.145955</td>\n      <td>1.958696e+00</td>\n      <td>1.651309e+00</td>\n      <td>1.516255e+00</td>\n      <td>1.415869e+00</td>\n      <td>1.380247e+00</td>\n      <td>1.332271e+00</td>\n      <td>1.237094e+00</td>\n      <td>1.194353e+00</td>\n      <td>1.098632e+00</td>\n      <td>...</td>\n      <td>7.345240e-01</td>\n      <td>7.257016e-01</td>\n      <td>6.244603e-01</td>\n      <td>6.056471e-01</td>\n      <td>5.212781e-01</td>\n      <td>4.822270e-01</td>\n      <td>4.036325e-01</td>\n      <td>3.300833e-01</td>\n      <td>250.120109</td>\n      <td>0.041527</td>\n    </tr>\n    <tr>\n      <th>min</th>\n      <td>0.000000</td>\n      <td>-5.640751e+01</td>\n      <td>-7.271573e+01</td>\n      <td>-4.832559e+01</td>\n      <td>-5.683171e+00</td>\n      <td>-1.137433e+02</td>\n      <td>-2.616051e+01</td>\n      <td>-4.355724e+01</td>\n      <td>-7.321672e+01</td>\n      <td>-1.343407e+01</td>\n      <td>...</td>\n      <td>-3.483038e+01</td>\n      <td>-1.093314e+01</td>\n      <td>-4.480774e+01</td>\n      <td>-2.836627e+00</td>\n      <td>-1.029540e+01</td>\n      <td>-2.604551e+00</td>\n      <td>-2.256568e+01</td>\n      <td>-1.543008e+01</td>\n      <td>0.000000</td>\n      <td>0.000000</td>\n    </tr>\n    <tr>\n      <th>25%</th>\n      <td>54201.500000</td>\n      <td>-9.203734e-01</td>\n      <td>-5.985499e-01</td>\n      <td>-8.903648e-01</td>\n      <td>-8.486401e-01</td>\n      <td>-6.915971e-01</td>\n      <td>-7.682956e-01</td>\n      <td>-5.540759e-01</td>\n      <td>-2.086297e-01</td>\n      <td>-6.430976e-01</td>\n      <td>...</td>\n      <td>-2.283949e-01</td>\n      <td>-5.423504e-01</td>\n      <td>-1.618463e-01</td>\n      <td>-3.545861e-01</td>\n      <td>-3.171451e-01</td>\n      <td>-3.269839e-01</td>\n      <td>-7.083953e-02</td>\n      <td>-5.295979e-02</td>\n      <td>5.600000</td>\n      <td>0.000000</td>\n    </tr>\n    <tr>\n      <th>50%</th>\n      <td>84692.000000</td>\n      <td>1.810880e-02</td>\n      <td>6.548556e-02</td>\n      <td>1.798463e-01</td>\n      <td>-1.984653e-02</td>\n      <td>-5.433583e-02</td>\n      <td>-2.741871e-01</td>\n      <td>4.010308e-02</td>\n      <td>2.235804e-02</td>\n      <td>-5.142873e-02</td>\n      <td>...</td>\n      <td>-2.945017e-02</td>\n      <td>6.781943e-03</td>\n      <td>-1.119293e-02</td>\n      <td>4.097606e-02</td>\n      <td>1.659350e-02</td>\n      <td>-5.213911e-02</td>\n      <td>1.342146e-03</td>\n      <td>1.124383e-02</td>\n      <td>22.000000</td>\n      <td>0.000000</td>\n    </tr>\n    <tr>\n      <th>75%</th>\n      <td>139320.500000</td>\n      <td>1.315642e+00</td>\n      <td>8.037239e-01</td>\n      <td>1.027196e+00</td>\n      <td>7.433413e-01</td>\n      <td>6.119264e-01</td>\n      <td>3.985649e-01</td>\n      <td>5.704361e-01</td>\n      <td>3.273459e-01</td>\n      <td>5.971390e-01</td>\n      <td>...</td>\n      <td>1.863772e-01</td>\n      <td>5.285536e-01</td>\n      <td>1.476421e-01</td>\n      <td>4.395266e-01</td>\n      <td>3.507156e-01</td>\n      <td>2.409522e-01</td>\n      <td>9.104512e-02</td>\n      <td>7.827995e-02</td>\n      <td>77.165000</td>\n      <td>0.000000</td>\n    </tr>\n    <tr>\n      <th>max</th>\n      <td>172792.000000</td>\n      <td>2.454930e+00</td>\n      <td>2.205773e+01</td>\n      <td>9.382558e+00</td>\n      <td>1.687534e+01</td>\n      <td>3.480167e+01</td>\n      <td>7.330163e+01</td>\n      <td>1.205895e+02</td>\n      <td>2.000721e+01</td>\n      <td>1.559499e+01</td>\n      <td>...</td>\n      <td>2.720284e+01</td>\n      <td>1.050309e+01</td>\n      <td>2.252841e+01</td>\n      <td>4.584549e+00</td>\n      <td>7.519589e+00</td>\n      <td>3.517346e+00</td>\n      <td>3.161220e+01</td>\n      <td>3.384781e+01</td>\n      <td>25691.160000</td>\n      <td>1.000000</td>\n    </tr>\n  </tbody>\n</table>\n<p>8 rows × 31 columns</p>\n</div>"
     },
     "execution_count": 5,
     "metadata": {},
     "output_type": "execute_result"
    }
   ]
  },
  {
   "cell_type": "markdown",
   "source": [
    "# Machine learning"
   ],
   "metadata": {
    "collapsed": false
   }
  },
  {
   "cell_type": "code",
   "source": [
    "from pycaret.classification import *\n",
    "\n",
    "s = setup(data, target='Class', session_id=123)"
   ],
   "metadata": {
    "colab": {
     "base_uri": "https://localhost:8080/",
     "height": 645
    },
    "id": "FLTfLgZCAfYI",
    "outputId": "bba7c87c-3622-4a90-afdf-9ca1b6d526b8",
    "ExecuteTime": {
     "end_time": "2023-10-22T07:38:28.742598Z",
     "start_time": "2023-10-22T07:38:23.631850Z"
    }
   },
   "execution_count": 6,
   "outputs": [
    {
     "data": {
      "text/plain": "<IPython.core.display.HTML object>",
      "text/html": ""
     },
     "metadata": {},
     "output_type": "display_data"
    }
   ]
  },
  {
   "cell_type": "code",
   "execution_count": 7,
   "outputs": [
    {
     "data": {
      "text/plain": "Name                                                               APC\nDisplay Name                                                       APC\nScore Function       <pycaret.internal.metrics.EncodedDecodedLabels...\nScorer               make_scorer(average_precision_score, needs_pro...\nTarget                                                      pred_proba\nArgs                                                                {}\nGreater is Better                                                 True\nMulticlass                                                        True\nCustom                                                            True\nName: apc, dtype: object"
     },
     "execution_count": 7,
     "metadata": {},
     "output_type": "execute_result"
    }
   ],
   "source": [
    "from sklearn.metrics import average_precision_score\n",
    "\n",
    "# also called AUPRC\n",
    "add_metric('apc', 'APC', average_precision_score, target='pred_proba')"
   ],
   "metadata": {
    "collapsed": false,
    "ExecuteTime": {
     "end_time": "2023-10-22T07:38:28.753272Z",
     "start_time": "2023-10-22T07:38:28.750225Z"
    }
   }
  },
  {
   "cell_type": "code",
   "source": [
    "best = compare_models()"
   ],
   "metadata": {
    "colab": {
     "base_uri": "https://localhost:8080/",
     "height": 487,
     "referenced_widgets": [
      "b97ef13e60d34f3cb1166f2b14c3a53e",
      "69ed8eb176a8470989bf1fb16fa50d5a",
      "d11665f1120443988435118cbbebe498",
      "7c93f3831f6b4950bbf837367a9d7d57",
      "9ac73ecc4f6540258244bc11727b4b35",
      "b230444f2eda4c8bab5075043dd0a1bd",
      "f8db139f78a64e59abeeecb96f915ffe",
      "f9071b3d5c474bdca949d370c5617309",
      "75fe6c67924c4600ae3cb20aa381c49b",
      "fd04d420fb9a4664b7ec1142cf7a1788",
      "4151406b4dba4b178b1573932ee7c632"
     ]
    },
    "id": "3TKNkJu4AuwV",
    "outputId": "286a7667-b582-445e-94cb-6815aead7873",
    "ExecuteTime": {
     "end_time": "2023-10-22T07:56:38.313404Z",
     "start_time": "2023-10-22T07:38:29.892767Z"
    }
   },
   "execution_count": 8,
   "outputs": [
    {
     "data": {
      "text/plain": "                                                                    \n                                                                    \nInitiated  . . . . . . . . . . . . . . . . . .              09:38:29\nStatus     . . . . . . . . . . . . . . . . . .  Loading Dependencies\nEstimator  . . . . . . . . . . . . . . . . . .     Compiling Library",
      "text/html": "<div>\n<style scoped>\n    .dataframe tbody tr th:only-of-type {\n        vertical-align: middle;\n    }\n\n    .dataframe tbody tr th {\n        vertical-align: top;\n    }\n\n    .dataframe thead th {\n        text-align: right;\n    }\n</style>\n<table border=\"1\" class=\"dataframe\">\n  <thead>\n    <tr style=\"text-align: right;\">\n      <th></th>\n      <th></th>\n      <th></th>\n    </tr>\n    <tr>\n      <th></th>\n      <th></th>\n      <th></th>\n    </tr>\n  </thead>\n  <tbody>\n    <tr>\n      <th>Initiated</th>\n      <td>. . . . . . . . . . . . . . . . . .</td>\n      <td>09:38:29</td>\n    </tr>\n    <tr>\n      <th>Status</th>\n      <td>. . . . . . . . . . . . . . . . . .</td>\n      <td>Loading Dependencies</td>\n    </tr>\n    <tr>\n      <th>Estimator</th>\n      <td>. . . . . . . . . . . . . . . . . .</td>\n      <td>Compiling Library</td>\n    </tr>\n  </tbody>\n</table>\n</div>"
     },
     "metadata": {},
     "output_type": "display_data"
    },
    {
     "data": {
      "text/plain": "<IPython.core.display.HTML object>",
      "text/html": ""
     },
     "metadata": {},
     "output_type": "display_data"
    },
    {
     "data": {
      "text/plain": "Processing:   0%|          | 0/61 [00:00<?, ?it/s]",
      "application/vnd.jupyter.widget-view+json": {
       "version_major": 2,
       "version_minor": 0,
       "model_id": "57ad8bff44ba405dba8253e5ce0f7ccb"
      }
     },
     "metadata": {},
     "output_type": "display_data"
    }
   ]
  },
  {
   "cell_type": "code",
   "execution_count": 9,
   "outputs": [
    {
     "name": "stdout",
     "output_type": "stream",
     "text": [
      "                                    Model  Accuracy     AUC  Recall   Prec.  \\\n",
      "rf               Random Forest Classifier    0.9996  0.9566  0.7969  0.9528   \n",
      "et                 Extra Trees Classifier    0.9996  0.9595  0.7911  0.9456   \n",
      "lda          Linear Discriminant Analysis    0.9994  0.9085  0.7795  0.8771   \n",
      "lr                    Logistic Regression    0.9992  0.9554  0.6454  0.8550   \n",
      "ada                  Ada Boost Classifier    0.9992  0.9804  0.7035  0.8268   \n",
      "dt               Decision Tree Classifier    0.9991  0.8822  0.7648  0.7555   \n",
      "ridge                    Ridge Classifier    0.9989  0.0000  0.4247  0.8508   \n",
      "gbc          Gradient Boosting Classifier    0.9989  0.6422  0.5081  0.7811   \n",
      "knn                K Neighbors Classifier    0.9984  0.5972  0.0583  0.9167   \n",
      "dummy                    Dummy Classifier    0.9983  0.5000  0.0000  0.0000   \n",
      "svm                   SVM - Linear Kernel    0.9981  0.0000  0.0206  0.0241   \n",
      "lightgbm  Light Gradient Boosting Machine    0.9964  0.7360  0.5463  0.2548   \n",
      "nb                            Naive Bayes    0.9934  0.9697  0.6487  0.1569   \n",
      "qda       Quadratic Discriminant Analysis    0.9766  0.9702  0.8724  0.0610   \n",
      "\n",
      "              F1   Kappa     MCC     APC  TT (Sec)  \n",
      "rf        0.8668  0.8666  0.8706  0.8536    21.598  \n",
      "et        0.8601  0.8599  0.8640  0.8645     4.603  \n",
      "lda       0.8240  0.8237  0.8258  0.7133     0.653  \n",
      "lr        0.7339  0.7335  0.7416  0.6861     2.607  \n",
      "ada       0.7582  0.7579  0.7613  0.7872    10.009  \n",
      "dt        0.7564  0.7559  0.7578  0.5780     2.311  \n",
      "ridge     0.5625  0.5620  0.5982  0.0000     0.144  \n",
      "gbc       0.5929  0.5924  0.6165  0.4697    51.434  \n",
      "knn       0.1083  0.1081  0.2243  0.1064     8.082  \n",
      "dummy     0.0000  0.0000  0.0000  0.0017     0.135  \n",
      "svm       0.0222  0.0220  0.0219  0.0000     1.516  \n",
      "lightgbm  0.3440  0.3424  0.3694  0.2040     1.692  \n",
      "nb        0.2524  0.2503  0.3167  0.1942     0.137  \n",
      "qda       0.1140  0.1111  0.2270  0.1589     0.491  \n"
     ]
    }
   ],
   "source": [
    "# access the scoring grid\n",
    "dt_results = pull()\n",
    "print(dt_results)"
   ],
   "metadata": {
    "collapsed": false,
    "ExecuteTime": {
     "end_time": "2023-10-22T08:22:11.753541Z",
     "start_time": "2023-10-22T08:22:11.747052Z"
    }
   }
  },
  {
   "cell_type": "code",
   "source": [
    "plot_model(best, plot='pr')"
   ],
   "metadata": {
    "colab": {
     "base_uri": "https://localhost:8080/",
     "height": 524
    },
    "id": "UdBIkkWjhPfK",
    "outputId": "08db5c91-c30a-4458-fab0-44afb514032d",
    "ExecuteTime": {
     "end_time": "2023-10-18T06:11:52.528837Z",
     "start_time": "2023-10-18T06:11:51.000312Z"
    }
   },
   "execution_count": 10,
   "outputs": [
    {
     "data": {
      "text/plain": "<IPython.core.display.HTML object>",
      "text/html": ""
     },
     "metadata": {},
     "output_type": "display_data"
    },
    {
     "data": {
      "text/plain": "<Figure size 800x550 with 1 Axes>",
      "image/png": "[encoded data removed]"
     },
     "metadata": {},
     "output_type": "display_data"
    }
   ]
  },
  {
   "cell_type": "code",
   "source": [
    "evaluate_model(best)"
   ],
   "metadata": {
    "colab": {
     "base_uri": "https://localhost:8080/",
     "height": 266,
     "referenced_widgets": [
      "d76a147a88f542b68ba7b74f491521b7",
      "41412116a8a14828a5774cdb936e89ee",
      "a08c07146ed6499db237ad25d840c66c",
      "a210d032aa73488ebb39ccf45c62a853",
      "5e78b74cf5fb4c8880ff0f8be6ca2e8b",
      "b4eafed602714460aa6c10784a7b0b39",
      "9126bb466a50421593fd0ca939546ee5"
     ]
    },
    "id": "BaMV2ZPtS-tl",
    "outputId": "f83a6cf0-37e4-4ee2-f4a8-cac2b55a7f95",
    "ExecuteTime": {
     "end_time": "2023-10-18T06:11:53.158763Z",
     "start_time": "2023-10-18T06:11:52.441437Z"
    }
   },
   "execution_count": 11,
   "outputs": [
    {
     "data": {
      "text/plain": "interactive(children=(ToggleButtons(description='Plot Type:', icons=('',), options=(('Pipeline Plot', 'pipelin…",
      "application/vnd.jupyter.widget-view+json": {
       "version_major": 2,
       "version_minor": 0,
       "model_id": "873844a66aed49b49cff18f55a036d23"
      }
     },
     "metadata": {},
     "output_type": "display_data"
    }
   ]
  },
  {
   "cell_type": "code",
   "source": [
    "pred_holdout = predict_model(best)"
   ],
   "metadata": {
    "colab": {
     "base_uri": "https://localhost:8080/",
     "height": 81
    },
    "id": "zCO9tMK6Te1t",
    "outputId": "ab1e6304-c176-4c83-bca4-54d0fc691692",
    "ExecuteTime": {
     "end_time": "2023-10-18T06:11:54.054517Z",
     "start_time": "2023-10-18T06:11:53.158432Z"
    }
   },
   "execution_count": 12,
   "outputs": [
    {
     "data": {
      "text/plain": "<IPython.core.display.HTML object>",
      "text/html": ""
     },
     "metadata": {},
     "output_type": "display_data"
    }
   ]
  },
  {
   "cell_type": "code",
   "source": [
    "save_model(best, 'best_pipeline')"
   ],
   "metadata": {
    "colab": {
     "base_uri": "https://localhost:8080/"
    },
    "id": "GAFTjRsHU1a7",
    "outputId": "a4373721-0db3-45ce-9104-2729bf84db9f",
    "ExecuteTime": {
     "end_time": "2023-10-18T06:11:54.250537Z",
     "start_time": "2023-10-18T06:11:54.063729Z"
    }
   },
   "execution_count": 13,
   "outputs": [
    {
     "name": "stdout",
     "output_type": "stream",
     "text": [
      "Transformation Pipeline and Model Successfully Saved\n"
     ]
    },
    {
     "data": {
      "text/plain": "(Pipeline(memory=Memory(location=None),\n          steps=[('numerical_imputer',\n                  TransformerWrapper(exclude=None,\n                                     include=['Time', 'V1', 'V2', 'V3', 'V4',\n                                              'V5', 'V6', 'V7', 'V8', 'V9',\n                                              'V10', 'V11', 'V12', 'V13', 'V14',\n                                              'V15', 'V16', 'V17', 'V18', 'V19',\n                                              'V20', 'V21', 'V22', 'V23', 'V24',\n                                              'V25', 'V26', 'V27', 'V28',\n                                              'Amount'],\n                                     transformer=SimpleImputer(add_indicator=False,\n                                                               copy=True,\n                                                               fill_value=...\n                  RandomForestClassifier(bootstrap=True, ccp_alpha=0.0,\n                                         class_weight=None, criterion='gini',\n                                         max_depth=None, max_features='sqrt',\n                                         max_leaf_nodes=None, max_samples=None,\n                                         min_impurity_decrease=0.0,\n                                         min_samples_leaf=1, min_samples_split=2,\n                                         min_weight_fraction_leaf=0.0,\n                                         n_estimators=100, n_jobs=-1,\n                                         oob_score=False, random_state=123,\n                                         verbose=0, warm_start=False))],\n          verbose=False),\n 'best_pipeline.pkl')"
     },
     "execution_count": 13,
     "metadata": {},
     "output_type": "execute_result"
    }
   ]
  }
 ]
}
